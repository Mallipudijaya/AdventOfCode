{
  "nbformat": 4,
  "nbformat_minor": 0,
  "metadata": {
    "colab": {
      "provenance": []
    },
    "kernelspec": {
      "name": "python3",
      "display_name": "Python 3"
    },
    "language_info": {
      "name": "python"
    }
  },
  "cells": [
    {
      "cell_type": "code",
      "source": [
        "# Sample input as multiline string\n",
        "input_data1=\"\"\"\n",
        "3   4\n",
        "4   3\n",
        "2   5\n",
        "1   3\n",
        "3   9\n",
        "3   3\n",
        "\"\"\"\n",
        "input_data = \"\"\"\n",
        "enter data here\n",
        "\"\"\"\n",
        "from collections import Counter\n",
        "# Parse the input into two separate lists\n",
        "left_list = []\n",
        "right_list = []\n",
        "for line in input_data.strip().split(\"\\n\"):\n",
        "    left, right = map(int, line.split())\n",
        "    left_list.append(left)\n",
        "    right_list.append(right)\n",
        "\n",
        "# Sort both lists\n",
        "left_list.sort()\n",
        "right_list.sort()\n",
        "\n",
        "# Calculate the total distance\n",
        "total_distance = sum(abs(l - r) for l, r in zip(left_list, right_list))\n",
        "\n",
        "print(f\"Total Distance: {total_distance}\")\n",
        "\n",
        "# Count occurrences in the right list\n",
        "right_counts = Counter(right_list)\n",
        "\n",
        "# Calculate similarity score\n",
        "similarity_score = 0\n",
        "for num in left_list:\n",
        "    similarity_score += num * right_counts.get(num, 0)\n",
        "\n",
        "print(\"Similarity Score:\", similarity_score)\n"
      ],
      "metadata": {
        "colab": {
          "base_uri": "https://localhost:8080/"
        },
        "id": "wM1TF43oO-cI",
        "outputId": "bc93dff1-1272-4aed-8363-0fcdbd9e93da"
      },
      "execution_count": null,
      "outputs": [
        {
          "output_type": "stream",
          "name": "stdout",
          "text": [
            "Total Distance: 3574690\n",
            "Similarity Score: 22565391\n"
          ]
        }
      ]
    },
    {
      "cell_type": "markdown",
      "source": [
        "# 2 Question\n"
      ],
      "metadata": {
        "id": "qT2OI1sqQem7"
      }
    },
    {
      "cell_type": "code",
      "source": [
        "def is_safe(levels):\n",
        "    if len(levels) < 2:\n",
        "        return True\n",
        "\n",
        "    diff = levels[1] - levels[0]\n",
        "    if abs(diff) < 1 or abs(diff) > 3:\n",
        "        return False\n",
        "\n",
        "    increasing = diff > 0\n",
        "\n",
        "    for i in range(2, len(levels)):\n",
        "        new_diff = levels[i] - levels[i-1]\n",
        "        if (increasing and new_diff <= 0) or (not increasing and new_diff >= 0):\n",
        "            return False\n",
        "        if abs(new_diff) < 1 or abs(new_diff) > 3:\n",
        "            return False\n",
        "\n",
        "    return True\n",
        "\n",
        "def count_safe_reports(input_data):\n",
        "    safe_count = 0\n",
        "    for line in input_data.strip().split('\\n'):\n",
        "        levels = list(map(int, line.split()))\n",
        "        if is_safe(levels):\n",
        "            safe_count += 1\n",
        "    return safe_count\n",
        "\n",
        "# Read the input data from a file named 'input.txt'\n",
        "with open('input.txt', 'r') as file:\n",
        "    input_data = file.read()\n",
        "\n",
        "result = count_safe_reports(input_data)\n",
        "print(f\"Number of safe reports: {result}\")\n",
        "\n",
        "def is_safe(levels):\n",
        "    if len(levels) < 2:\n",
        "        return True\n",
        "\n",
        "    increasing = levels[1] > levels[0]\n",
        "    for i in range(1, len(levels)):\n",
        "        diff = levels[i] - levels[i-1]\n",
        "        if (increasing and diff <= 0) or (not increasing and diff >= 0):\n",
        "            return False\n",
        "        if abs(diff) < 1 or abs(diff) > 3:\n",
        "            return False\n",
        "\n",
        "    return True\n",
        "\n",
        "def is_safe_with_dampener(levels):\n",
        "    if is_safe(levels):\n",
        "        return True\n",
        "\n",
        "    for i in range(len(levels)):\n",
        "        dampened_levels = levels[:i] + levels[i+1:]\n",
        "        if is_safe(dampened_levels):\n",
        "            return True\n",
        "\n",
        "    return False\n",
        "\n",
        "def count_safe_reports(input_data):\n",
        "    safe_count = 0\n",
        "    for line in input_data.strip().split('\\n'):\n",
        "        levels = list(map(int, line.split()))\n",
        "        if is_safe_with_dampener(levels):\n",
        "            safe_count += 1\n",
        "    return safe_count\n",
        "\n",
        "# Read the input data from a file named 'input.txt'\n",
        "with open('input.txt', 'r') as file:\n",
        "    input_data = file.read()\n",
        "\n",
        "result = count_safe_reports(input_data)\n",
        "print(f\"Number of safe reports with Problem Dampener: {result}\")"
      ],
      "metadata": {
        "colab": {
          "base_uri": "https://localhost:8080/"
        },
        "id": "mFAZSqIIQdH8",
        "outputId": "4cc00419-8287-468f-f510-fccf901fd9df"
      },
      "execution_count": null,
      "outputs": [
        {
          "output_type": "stream",
          "name": "stdout",
          "text": [
            "Number of safe reports: 510\n",
            "Number of safe reports with Problem Dampener: 553\n"
          ]
        }
      ]
    },
    {
      "cell_type": "markdown",
      "source": [
        "# 6 Question"
      ],
      "metadata": {
        "id": "cZCORtReZo7H"
      }
    },
    {
      "cell_type": "code",
      "source": [
        "G = {i+j*1j: c for i,r in enumerate(open('input.txt'))\n",
        "               for j,c in enumerate(r.strip())}\n",
        "\n",
        "start = min(p for p in G if G[p] == '^')\n",
        "\n",
        "def walk(G):\n",
        "    pos, dir, seen = start, -1, set()\n",
        "    while pos in G and (pos,dir) not in seen:\n",
        "        seen |= {(pos,dir)}\n",
        "        if G.get(pos+dir) == \"#\":\n",
        "            dir *= -1j\n",
        "        else: pos += dir\n",
        "    return {p for p,_ in seen}, (pos,dir) in seen\n",
        "\n",
        "path = walk(G)[0]\n",
        "print(len(path),\n",
        "      sum(walk(G | {o: '#'})[1] for o in path))"
      ],
      "metadata": {
        "colab": {
          "base_uri": "https://localhost:8080/"
        },
        "id": "a7Q6zijWyVIl",
        "outputId": "55f816cc-fd54-45ec-c962-1a71e6b95e0a"
      },
      "execution_count": null,
      "outputs": [
        {
          "output_type": "stream",
          "name": "stdout",
          "text": [
            "41 6\n"
          ]
        }
      ]
    },
    {
      "cell_type": "markdown",
      "source": [
        "3 Question"
      ],
      "metadata": {
        "id": "66OExvvbe7nk"
      }
    },
    {
      "cell_type": "code",
      "source": [
        "import re\n",
        "\n",
        "def solve_puzzle(input_text):\n",
        "    pattern = r'mul\\((\\d{1,3}),(\\d{1,3})\\)'\n",
        "    matches = re.findall(pattern, input_text)\n",
        "\n",
        "    total = 0\n",
        "    for match in matches:\n",
        "        x, y = map(int, match)\n",
        "        total += x * y\n",
        "\n",
        "    return total\n",
        "\n",
        "# Read the input from the file\n",
        "with open('puzzle_input.txt', 'r') as file:\n",
        "    puzzle_input = file.read()\n",
        "\n",
        "result = solve_puzzle(puzzle_input)\n",
        "print(f\"The sum of all multiplication results is: {result}\")"
      ],
      "metadata": {
        "colab": {
          "base_uri": "https://localhost:8080/"
        },
        "id": "kjvLDI2te9Nx",
        "outputId": "168b8323-379f-401f-af42-ee1639c8cbe1"
      },
      "execution_count": null,
      "outputs": [
        {
          "output_type": "stream",
          "name": "stdout",
          "text": [
            "The sum of all multiplication results is: 178794710\n"
          ]
        }
      ]
    },
    {
      "cell_type": "code",
      "source": [
        "import re\n",
        "\n",
        "def solve_puzzle(input_text):\n",
        "    pattern = r'(do\\(\\)|don\\'t\\(\\)|mul\\((\\d{1,3}),(\\d{1,3})\\))'\n",
        "    matches = re.findall(pattern, input_text)\n",
        "\n",
        "    total = 0\n",
        "    enabled = True\n",
        "\n",
        "    for match in matches:\n",
        "        instruction = match[0]\n",
        "        if instruction == 'do()':\n",
        "            enabled = True\n",
        "        elif instruction == \"don't()\":\n",
        "            enabled = False\n",
        "        elif instruction.startswith('mul(') and enabled:\n",
        "            x, y = map(int, match[1:])\n",
        "            total += x * y\n",
        "\n",
        "    return total\n",
        "\n",
        "# Read the input from the file\n",
        "with open('puzzle_input.txt', 'r') as file:\n",
        "    puzzle_input = file.read()\n",
        "\n",
        "result = solve_puzzle(puzzle_input)\n",
        "print(f\"The sum of all enabled multiplication results is: {result}\")"
      ],
      "metadata": {
        "colab": {
          "base_uri": "https://localhost:8080/"
        },
        "id": "kUD0ZGjEgOYx",
        "outputId": "a93421fd-ce34-4a3f-a30f-48cebde4928c"
      },
      "execution_count": null,
      "outputs": [
        {
          "output_type": "stream",
          "name": "stdout",
          "text": [
            "The sum of all enabled multiplication results is: 76729637\n"
          ]
        }
      ]
    },
    {
      "cell_type": "markdown",
      "source": [
        "Question 4"
      ],
      "metadata": {
        "id": "SQSnh1RZgrMn"
      }
    },
    {
      "cell_type": "code",
      "source": [
        "def count_xmas(grid):\n",
        "    rows, cols = len(grid), len(grid[0])\n",
        "    count = 0\n",
        "    directions = [\n",
        "        (0, 1), (1, 0), (1, 1), (1, -1),\n",
        "        (0, -1), (-1, 0), (-1, -1), (-1, 1)\n",
        "    ]\n",
        "\n",
        "    def check_direction(r, c, dr, dc):\n",
        "        if 0 <= r < rows and 0 <= c < cols and grid[r][c] == 'X':\n",
        "            if (0 <= r + dr < rows and 0 <= c + dc < cols and grid[r + dr][c + dc] == 'M' and\n",
        "                0 <= r + 2*dr < rows and 0 <= c + 2*dc < cols and grid[r + 2*dr][c + 2*dc] == 'A' and\n",
        "                0 <= r + 3*dr < rows and 0 <= c + 3*dc < cols and grid[r + 3*dr][c + 3*dc] == 'S'):\n",
        "                return 1\n",
        "        return 0\n",
        "\n",
        "    for r in range(rows):\n",
        "        for c in range(cols):\n",
        "            for dr, dc in directions:\n",
        "                count += check_direction(r, c, dr, dc)\n",
        "\n",
        "    return count\n",
        "\n",
        "# Read the input\n",
        "with open('puzzle_input.txt', 'r') as file:\n",
        "    grid = [line.strip() for line in file]\n",
        "\n",
        "result = count_xmas(grid)\n",
        "print(f\"XMAS appears {result} times in the word search.\")"
      ],
      "metadata": {
        "colab": {
          "base_uri": "https://localhost:8080/"
        },
        "id": "Jd7hMseDgtc_",
        "outputId": "cda9854f-6a7b-43f4-8125-1a3024a09bce"
      },
      "execution_count": null,
      "outputs": [
        {
          "output_type": "stream",
          "name": "stdout",
          "text": [
            "XMAS appears 2378 times in the word search.\n"
          ]
        }
      ]
    },
    {
      "cell_type": "code",
      "source": [
        "# read input_data from file\n",
        "with open(\"input.txt\", \"r\") as file:\n",
        "  input_data = file.readlines()\n",
        "\n",
        "# split input_data into 2d character array\n",
        "arr = [list(row.strip()) for row in input_data]\n",
        "\n",
        "# frame of reference is 3x3 square with center from (1,1) to (n-1,n-1) for array of size n\n",
        "# M . M  |  S . S  |  M . S  |  S . M\n",
        "# . A .  |  . A .  |  . A .  |  . A .\n",
        "# S . S  |  M . M  |  M . S  |  S . M\n",
        "count = 0\n",
        "for i in range(1, len(arr) - 1):\n",
        "  for j in range(1, len(arr) - 1):\n",
        "    if arr[i][j] == 'A':  # short circuit - center is A\n",
        "      if ((arr[i-1][j-1] == 'M' and arr[i-1][j+1] == 'M' and arr[i+1][j-1] == 'S' and arr[i+1][j+1] == 'S') or  # M on top, S on bottom\n",
        "          (arr[i+1][j-1] == 'M' and arr[i+1][j+1] == 'M' and arr[i-1][j-1] == 'S' and arr[i-1][j+1] == 'S') or  # M on bottom, S on top\n",
        "          (arr[i-1][j-1] == 'M' and arr[i+1][j-1] == 'M' and arr[i-1][j+1] == 'S' and arr[i+1][j+1] == 'S') or  # M on left, S on right\n",
        "          (arr[i-1][j+1] == 'M' and arr[i+1][j+1] == 'M' and arr[i-1][j-1] == 'S' and arr[i+1][j-1] == 'S')):   # M on right, S on left\n",
        "        count += 1\n",
        "\n",
        "print(count)"
      ],
      "metadata": {
        "colab": {
          "base_uri": "https://localhost:8080/"
        },
        "id": "rnAZOeXzzPTr",
        "outputId": "20788442-79bb-44cb-f28e-10d22c19c37c"
      },
      "execution_count": null,
      "outputs": [
        {
          "output_type": "stream",
          "name": "stdout",
          "text": [
            "1796\n"
          ]
        }
      ]
    },
    {
      "cell_type": "markdown",
      "source": [
        "Question 5"
      ],
      "metadata": {
        "id": "x-yQ1G8opYRC"
      }
    },
    {
      "cell_type": "code",
      "source": [
        "from collections import defaultdict, deque\n",
        "\n",
        "def parse_rules_and_updates(input_text):\n",
        "    # Split the input into two sections\n",
        "    rules_section, updates_section = input_text.strip().split(\"\\n\\n\")\n",
        "\n",
        "    # Parse the rules into a graph\n",
        "    rules = [line.split(\"|\") for line in rules_section.strip().split(\"\\n\")]\n",
        "    graph = defaultdict(list)\n",
        "    for before, after in rules:\n",
        "        graph[int(before)].append(int(after))\n",
        "\n",
        "    # Parse updates\n",
        "    updates = [list(map(int, update.split(\",\"))) for update in updates_section.strip().split(\"\\n\")]\n",
        "    return graph, updates\n",
        "\n",
        "def is_valid_update(graph, update):\n",
        "    # Create a map of page positions in the update\n",
        "    position = {page: idx for idx, page in enumerate(update)}\n",
        "\n",
        "    # Check all rules relevant to the pages in this update\n",
        "    for before, afters in graph.items():\n",
        "        if before in position:\n",
        "            for after in afters:\n",
        "                if after in position and position[before] > position[after]:\n",
        "                    return False\n",
        "    return True\n",
        "\n",
        "def compute_middle_pages(graph, updates):\n",
        "    middle_pages = []\n",
        "\n",
        "    for update in updates:\n",
        "        if is_valid_update(graph, update):\n",
        "            mid_idx = len(update) // 2\n",
        "            middle_pages.append(update[mid_idx])\n",
        "\n",
        "    return middle_pages\n",
        "\n",
        "# Input example\n",
        "input_text = \"\"\"\n",
        "enter data here\n",
        "\"\"\"\n",
        "\n",
        "# Process input\n",
        "graph, updates = parse_rules_and_updates(input_text)\n",
        "\n",
        "# Compute middle pages\n",
        "middle_pages = compute_middle_pages(graph, updates)\n",
        "\n",
        "# Output result\n",
        "result = sum(middle_pages)\n",
        "print(\"Sum of middle pages:\", result)\n"
      ],
      "metadata": {
        "colab": {
          "base_uri": "https://localhost:8080/"
        },
        "id": "mFylSN-xrOea",
        "outputId": "ce63087b-1f1d-4877-9998-6713ddaf1e77"
      },
      "execution_count": null,
      "outputs": [
        {
          "output_type": "stream",
          "name": "stdout",
          "text": [
            "Sum of middle pages: 4609\n"
          ]
        }
      ]
    },
    {
      "cell_type": "code",
      "source": [
        "from collections import defaultdict, deque\n",
        "\n",
        "def parse_rules_and_updates(input_text):\n",
        "    # Split the input into two sections\n",
        "    rules_section, updates_section = input_text.strip().split(\"\\n\\n\")\n",
        "\n",
        "    # Parse the rules into a graph\n",
        "    rules = [line.split(\"|\") for line in rules_section.strip().split(\"\\n\")]\n",
        "    graph = defaultdict(list)\n",
        "    for before, after in rules:\n",
        "        graph[int(before)].append(int(after))\n",
        "\n",
        "    # Parse updates\n",
        "    updates = [list(map(int, update.split(\",\"))) for update in updates_section.strip().split(\"\\n\")]\n",
        "    return graph, updates\n",
        "\n",
        "def is_valid_update(graph, update):\n",
        "    # Create a map of page positions in the update\n",
        "    position = {page: idx for idx, page in enumerate(update)}\n",
        "\n",
        "    # Check all rules relevant to the pages in this update\n",
        "    for before, afters in graph.items():\n",
        "        if before in position:\n",
        "            for after in afters:\n",
        "                if after in position and position[before] > position[after]:\n",
        "                    return False\n",
        "    return True\n",
        "\n",
        "def topological_sort(graph, update):\n",
        "    # Build a local graph for this update\n",
        "    local_graph = defaultdict(list)\n",
        "    in_degree = defaultdict(int)\n",
        "\n",
        "    # Filter the rules to include only the pages in this update\n",
        "    update_set = set(update)\n",
        "    for before, afters in graph.items():\n",
        "        if before in update_set:\n",
        "            for after in afters:\n",
        "                if after in update_set:\n",
        "                    local_graph[before].append(after)\n",
        "                    in_degree[after] += 1\n",
        "                    in_degree[before]  # Ensure all nodes are in in_degree\n",
        "\n",
        "    # Perform topological sort using Kahn's algorithm\n",
        "    queue = deque([node for node in update if in_degree[node] == 0])\n",
        "    sorted_update = []\n",
        "\n",
        "    while queue:\n",
        "        current = queue.popleft()\n",
        "        sorted_update.append(current)\n",
        "\n",
        "        for neighbor in local_graph[current]:\n",
        "            in_degree[neighbor] -= 1\n",
        "            if in_degree[neighbor] == 0:\n",
        "                queue.append(neighbor)\n",
        "\n",
        "    return sorted_update\n",
        "\n",
        "def process_updates(graph, updates):\n",
        "    valid_updates = []\n",
        "    invalid_updates = []\n",
        "\n",
        "    for update in updates:\n",
        "        if is_valid_update(graph, update):\n",
        "            valid_updates.append(update)\n",
        "        else:\n",
        "            invalid_updates.append(update)\n",
        "\n",
        "    return valid_updates, invalid_updates\n",
        "\n",
        "def compute_middle_pages(updates):\n",
        "    middle_pages = []\n",
        "\n",
        "    for update in updates:\n",
        "        mid_idx = len(update) // 2\n",
        "        middle_pages.append(update[mid_idx])\n",
        "\n",
        "    return middle_pages\n",
        "\n",
        "# Input example\n",
        "input_text = \"\"\"\n",
        "enter data here\n",
        "\"\"\"\n",
        "\n",
        "# Process input\n",
        "graph, updates = parse_rules_and_updates(input_text)\n",
        "\n",
        "# Separate valid and invalid updates\n",
        "valid_updates, invalid_updates = process_updates(graph, updates)\n",
        "\n",
        "# Correct the invalid updates\n",
        "corrected_updates = [topological_sort(graph, update) for update in invalid_updates]\n",
        "\n",
        "# Compute middle pages of corrected updates\n",
        "corrected_middle_pages = compute_middle_pages(corrected_updates)\n",
        "\n",
        "# Output result\n",
        "result = sum(corrected_middle_pages)\n",
        "print(\"Sum of middle pages of corrected updates:\", result)\n"
      ],
      "metadata": {
        "colab": {
          "base_uri": "https://localhost:8080/"
        },
        "id": "YWDo1Ie7sLu4",
        "outputId": "b722874f-3fce-4baf-c51c-c1a71e34dd38"
      },
      "execution_count": null,
      "outputs": [
        {
          "output_type": "stream",
          "name": "stdout",
          "text": [
            "Sum of middle pages of corrected updates: 5723\n"
          ]
        }
      ]
    },
    {
      "cell_type": "markdown",
      "source": [
        "Question 7"
      ],
      "metadata": {
        "id": "rWrjak0NzhJl"
      }
    },
    {
      "cell_type": "code",
      "source": [
        "import itertools\n",
        "\n",
        "# check if expr evaluates to r\n",
        "def expression_valid(r, expr):\n",
        "  result = expr[0]\n",
        "  expr = expr[1:]\n",
        "  while len(expr) > 0:\n",
        "    if expr[0] == '+':\n",
        "      result = result + expr[1]\n",
        "    else:\n",
        "      result = result * expr[1]\n",
        "    expr = expr[2:]\n",
        "\n",
        "  return result == r\n",
        "\n",
        "# read input_data from file\n",
        "with open(\"input.txt\") as file:\n",
        "  input_data = file.readlines()\n",
        "\n",
        "# build set of all possible equations\n",
        "equations = []\n",
        "for line in input_data:\n",
        "  left, right = line.split(': ')\n",
        "\n",
        "  result = int(left)\n",
        "  operands = list(map(int, right.split()))\n",
        "  ops = ['+', '*']\n",
        "  base_case = list(itertools.product(ops, ops))\n",
        "\n",
        "  op_sets = None\n",
        "\n",
        "  if len(operands) == 2:\n",
        "    op_sets = [[x] for x in ops]\n",
        "  elif len(operands) == 3:\n",
        "    op_sets = [list(x) for x in base_case]\n",
        "  else:\n",
        "    for i in range(len(operands) - 3):\n",
        "      if op_sets == None:\n",
        "        op_sets = list(itertools.product(base_case, ops))\n",
        "      else:\n",
        "        op_sets = list(itertools.product(op_sets, ops))\n",
        "\n",
        "      for i in range(len(op_sets)):\n",
        "        if type(op_sets[i]) is tuple:\n",
        "          op_sets[i] = [x for y in op_sets[i] for x in y]\n",
        "\n",
        "  # assemble all possible sequences of operands and operators\n",
        "  for op_set in op_sets:\n",
        "    op_set.append('')\n",
        "    expression = [combo[i] for i in range(len(op_set)) for combo in [operands, op_set]][:-1]\n",
        "    equations.append([result, expression])\n",
        "\n",
        "# collect list of unique results with valid expressions\n",
        "valid_results = []\n",
        "for result, expression in equations:\n",
        "  if result not in valid_results:\n",
        "    if expression_valid(result, expression):  # expression evaluates to result\n",
        "      valid_results.append(result)            # add result to valid results list\n",
        "\n",
        "print(sum(valid_results))"
      ],
      "metadata": {
        "colab": {
          "base_uri": "https://localhost:8080/"
        },
        "id": "JzJgzfssziFW",
        "outputId": "a6598538-d8f3-4551-968a-fb94280d229d"
      },
      "execution_count": null,
      "outputs": [
        {
          "output_type": "stream",
          "name": "stdout",
          "text": [
            "945512582195\n"
          ]
        }
      ]
    },
    {
      "cell_type": "code",
      "source": [
        "from operator import add, mul\n",
        "\n",
        "cat = lambda x,y: int(str(x) + str(y))\n",
        "\n",
        "ans = 0\n",
        "for line in open('input.txt'):\n",
        "    tgt, x, *Y = map(int, line.replace(':', '').split())\n",
        "\n",
        "    X = [x]\n",
        "    for y in Y:\n",
        "        X = [op(x,y) for x in X for op in (add,mul,cat)]\n",
        "\n",
        "    if tgt in X: ans += tgt\n",
        "\n",
        "print(ans)"
      ],
      "metadata": {
        "colab": {
          "base_uri": "https://localhost:8080/"
        },
        "id": "HHqvNItf0LAk",
        "outputId": "92dd994e-e54c-4376-c558-9c5d88994b1a"
      },
      "execution_count": null,
      "outputs": [
        {
          "output_type": "stream",
          "name": "stdout",
          "text": [
            "271691107779347\n"
          ]
        }
      ]
    },
    {
      "cell_type": "markdown",
      "source": [
        "8. Question"
      ],
      "metadata": {
        "id": "9JeXsQvkRxei"
      }
    },
    {
      "cell_type": "markdown",
      "source": [
        "9.Question"
      ],
      "metadata": {
        "id": "F-ODd9J8njFq"
      }
    },
    {
      "cell_type": "code",
      "source": [
        "import sys\n",
        "import re\n",
        "from collections import defaultdict, Counter, deque\n",
        "import pyperclip as pc\n",
        "def pr(s):\n",
        "    print(s)\n",
        "    pc.copy(s)\n",
        "sys.setrecursionlimit(10**6)\n",
        "infile = sys.argv[1] if len(sys.argv)>=2 else '9.in'\n",
        "p1 = 0\n",
        "p2 = 0\n",
        "D = open('data.txt').read().strip()\n",
        "\n",
        "def solve(part2):\n",
        "    A = deque([])\n",
        "    SPACE = deque([])\n",
        "    file_id = 0\n",
        "    FINAL = []\n",
        "    pos = 0\n",
        "    for i,c in enumerate(D):\n",
        "        if i%2==0:\n",
        "            if part2:\n",
        "                A.append((pos, int(c), file_id))\n",
        "            for i in range(int(c)):\n",
        "                FINAL.append(file_id)\n",
        "                if not part2:\n",
        "                    A.append((pos, 1, file_id))\n",
        "                pos += 1\n",
        "            file_id += 1\n",
        "        else:\n",
        "            SPACE.append((pos, int(c)))\n",
        "            for i in range(int(c)):\n",
        "                FINAL.append(None)\n",
        "                pos += 1\n",
        "\n",
        "    for (pos, sz, file_id) in reversed(A):\n",
        "        for space_i,(space_pos, space_sz) in enumerate(SPACE):\n",
        "            if space_pos < pos and sz <= space_sz:\n",
        "                for i in range(sz):\n",
        "                    assert FINAL[pos+i] == file_id, f'{FINAL[pos+i]=}'\n",
        "                    FINAL[pos+i] = None\n",
        "                    FINAL[space_pos+i] = file_id\n",
        "                SPACE[space_i] = (space_pos + sz, space_sz-sz)\n",
        "                break\n",
        "\n",
        "    ans = 0\n",
        "    for i,c in enumerate(FINAL):\n",
        "        if c is not None:\n",
        "            ans += i*c\n",
        "    return ans\n",
        "\n",
        "p1 = solve(False)\n",
        "p2 = solve(True)\n",
        "print(p1)\n",
        "print(p2)"
      ],
      "metadata": {
        "colab": {
          "base_uri": "https://localhost:8080/"
        },
        "id": "maSVZ_3sn5Us",
        "outputId": "987e99db-c61e-409f-ab6d-40f9b06fcb2e"
      },
      "execution_count": null,
      "outputs": [
        {
          "output_type": "stream",
          "name": "stdout",
          "text": [
            "6398252054886\n",
            "6415666220005\n"
          ]
        }
      ]
    },
    {
      "cell_type": "code",
      "source": [
        "from collections import deque\n",
        "\n",
        "with open('2024_09.txt') as f:\n",
        "    rawinput = f.read()\n",
        "\n",
        "lengths = [int(num) for num in rawinput]\n",
        "\n",
        "filled_grid = deque()\n",
        "moved_grid = deque()\n",
        "gaps = deque()\n",
        "\n",
        "cur_pos = 0\n",
        "for i,num in enumerate(lengths):\n",
        "    if i%2 == 0:\n",
        "        filled_grid.append([i//2,cur_pos,num])\n",
        "    else:\n",
        "        if num > 0:\n",
        "            gaps.append([cur_pos,num])\n",
        "    cur_pos += num\n",
        "\n",
        "while True:\n",
        "    gap_pos,gap_len = gaps.popleft()\n",
        "    file_id,file_pos,file_len = filled_grid.pop()\n",
        "    if gap_pos > file_pos:\n",
        "        filled_grid.append([file_id,file_pos,file_len])\n",
        "        break\n",
        "    if gap_len > file_len:\n",
        "        moved_grid.append([file_id,gap_pos,file_len])\n",
        "        gaps.appendleft([gap_pos+file_len,gap_len-file_len])\n",
        "    elif gap_len == file_len:\n",
        "        moved_grid.append([file_id,gap_pos,file_len])\n",
        "    else:\n",
        "        moved_grid.append([file_id,gap_pos,gap_len])\n",
        "        filled_grid.append([file_id,file_pos,file_len-gap_len])\n",
        "\n",
        "final_grid = filled_grid + moved_grid\n",
        "answer = sum(num*(start*length+(length*(length-1))//2) for num,start,length in final_grid) # (start) + (start+1) + ... + (start+length-1)\n",
        "print(answer)"
      ],
      "metadata": {
        "id": "1CZbjPqwrmHK",
        "outputId": "25d9a6a5-4ceb-47f4-8c87-3dea5f6e37b2",
        "colab": {
          "base_uri": "https://localhost:8080/",
          "height": 251
        }
      },
      "execution_count": null,
      "outputs": [
        {
          "output_type": "error",
          "ename": "FileNotFoundError",
          "evalue": "[Errno 2] No such file or directory: '2024_09.txt'",
          "traceback": [
            "\u001b[0;31m---------------------------------------------------------------------------\u001b[0m",
            "\u001b[0;31mFileNotFoundError\u001b[0m                         Traceback (most recent call last)",
            "\u001b[0;32m<ipython-input-10-f483b39bd388>\u001b[0m in \u001b[0;36m<cell line: 3>\u001b[0;34m()\u001b[0m\n\u001b[1;32m      1\u001b[0m \u001b[0;32mfrom\u001b[0m \u001b[0mcollections\u001b[0m \u001b[0;32mimport\u001b[0m \u001b[0mdeque\u001b[0m\u001b[0;34m\u001b[0m\u001b[0;34m\u001b[0m\u001b[0m\n\u001b[1;32m      2\u001b[0m \u001b[0;34m\u001b[0m\u001b[0m\n\u001b[0;32m----> 3\u001b[0;31m \u001b[0;32mwith\u001b[0m \u001b[0mopen\u001b[0m\u001b[0;34m(\u001b[0m\u001b[0;34m'2024_09.txt'\u001b[0m\u001b[0;34m)\u001b[0m \u001b[0;32mas\u001b[0m \u001b[0mf\u001b[0m\u001b[0;34m:\u001b[0m\u001b[0;34m\u001b[0m\u001b[0;34m\u001b[0m\u001b[0m\n\u001b[0m\u001b[1;32m      4\u001b[0m     \u001b[0mrawinput\u001b[0m \u001b[0;34m=\u001b[0m \u001b[0mf\u001b[0m\u001b[0;34m.\u001b[0m\u001b[0mread\u001b[0m\u001b[0;34m(\u001b[0m\u001b[0;34m)\u001b[0m\u001b[0;34m\u001b[0m\u001b[0;34m\u001b[0m\u001b[0m\n\u001b[1;32m      5\u001b[0m \u001b[0;34m\u001b[0m\u001b[0m\n",
            "\u001b[0;31mFileNotFoundError\u001b[0m: [Errno 2] No such file or directory: '2024_09.txt'"
          ]
        }
      ]
    },
    {
      "cell_type": "markdown",
      "source": [
        "10 question"
      ],
      "metadata": {
        "id": "UD8FZPeSjkXs"
      }
    },
    {
      "cell_type": "code",
      "source": [
        "filename = 'input.txt'\n",
        "\n",
        "\n",
        "def explore(terr: dict, pos: complex, no_repeats: bool = True):\n",
        "    height = terr[pos]\n",
        "    if no_repeats:\n",
        "        del terr[pos]\n",
        "    if height == 9:\n",
        "        return 1\n",
        "    else:\n",
        "        trails = 0\n",
        "        for heading in (-1j, 1j, -1, 1):\n",
        "            direction = pos + heading\n",
        "            try:\n",
        "                if terr[direction] == height + 1:\n",
        "                    trails += explore(terr, direction, no_repeats)\n",
        "            except KeyError:\n",
        "                pass\n",
        "        return trails\n",
        "\n",
        "\n",
        "traces = {}\n",
        "\n",
        "data = open(filename, 'r').read().strip().splitlines()\n",
        "terrain = {r + c * 1j: int(v) for r, row in enumerate(data) for c, v in enumerate(row) if v != '.'}\n",
        "\n",
        "# find all 0s, but now let's test for ixed pos (0, 0)\n",
        "t_heads = [k for k, v in terrain.items() if v == 0]\n",
        "# Since we mutate the terrain map for with each step - every starting point gets its own copy\n",
        "scores = [explore(dict(terrain), t_h) for t_h in t_heads]\n",
        "print(scores)\n",
        "print(sum(scores))\n",
        "\n",
        "print('\\n   Part 2 \\n')\n",
        "\n",
        "scores = [explore(terrain, t_h, no_repeats=False) for t_h in t_heads]\n",
        "print(scores)\n",
        "print(sum(scores))\n"
      ],
      "metadata": {
        "colab": {
          "base_uri": "https://localhost:8080/"
        },
        "id": "SZeoOvGdjmj3",
        "outputId": "6a420e77-ba69-4e71-e53f-17ffdddabe01"
      },
      "execution_count": null,
      "outputs": [
        {
          "output_type": "stream",
          "name": "stdout",
          "text": [
            "[1, 3, 3, 1, 2, 2, 1, 1, 1, 2, 2, 3, 3, 2, 1, 1, 3, 5, 2, 2, 3, 5, 2, 4, 1, 2, 1, 1, 2, 1, 2, 1, 4, 3, 4, 1, 1, 3, 1, 2, 1, 1, 1, 4, 1, 1, 1, 4, 1, 2, 3, 3, 2, 3, 2, 2, 4, 3, 2, 1, 3, 3, 2, 2, 2, 4, 1, 1, 1, 3, 4, 4, 3, 2, 3, 1, 2, 1, 4, 2, 3, 2, 2, 2, 3, 2, 5, 2, 2, 4, 1, 2, 3, 2, 2, 3, 3, 1, 3, 5, 1, 1, 2, 3, 1, 5, 3, 2, 3, 3, 1, 3, 3, 2, 1, 1, 2, 2, 1, 5, 5, 5, 4, 1, 5, 3, 2, 1, 4, 3, 2, 2, 5, 4, 2, 1, 2, 5, 1, 5, 4, 4, 2, 2, 1, 1, 1, 5, 2, 2, 5, 5, 3, 2, 1, 1, 2, 2, 1, 5, 7, 2, 3, 2, 2, 1, 3, 3, 3, 1, 1, 1, 5, 2, 3, 2, 1, 2, 5, 1, 1, 2, 3, 1, 5, 2, 2, 5, 2, 1, 5, 2, 1, 3, 5, 3, 3, 1, 3, 2, 2, 1, 2, 3, 2, 3, 1, 1, 2, 2, 3, 3, 3, 2, 6, 1, 3, 2, 2, 3, 1, 2, 4, 2, 2, 1, 1, 2, 3, 1, 1, 4, 3, 1, 1, 1, 1, 4, 3, 1, 2, 2, 3, 1, 1, 3, 1, 2, 4, 3, 3, 2, 1, 2, 1, 4, 3, 3, 1, 1, 3, 3, 1, 1, 3, 1, 3, 3, 1, 1, 2, 2, 2, 3, 2, 3, 2, 2, 1, 5, 1, 1, 2, 4, 4, 2, 3, 3, 3, 2, 2, 1, 1, 1, 2, 2, 3, 3, 2, 2, 4, 4, 2, 2, 3, 3, 1, 2, 4, 3, 2, 5, 1, 1, 1, 3, 2, 4, 3, 1, 1, 2, 1, 2, 2, 5, 2, 1, 2, 3, 1, 1, 1, 1, 3, 4, 2]\n",
            "789\n",
            "\n",
            "   Part 2 \n",
            "\n",
            "[1, 18, 9, 3, 6, 2, 1, 2, 2, 3, 2, 3, 5, 3, 1, 1, 5, 6, 6, 3, 5, 5, 4, 4, 1, 2, 2, 3, 8, 2, 4, 2, 6, 4, 5, 2, 2, 4, 2, 3, 7, 1, 3, 8, 1, 2, 5, 4, 2, 6, 4, 3, 2, 4, 7, 3, 4, 5, 6, 1, 12, 18, 3, 7, 2, 14, 1, 1, 6, 4, 7, 5, 3, 3, 5, 1, 2, 2, 15, 3, 5, 2, 4, 2, 3, 3, 27, 3, 3, 15, 1, 6, 6, 3, 4, 3, 3, 1, 16, 14, 1, 1, 6, 5, 1, 11, 12, 3, 9, 5, 1, 12, 3, 2, 1, 2, 2, 2, 2, 16, 16, 7, 4, 1, 29, 11, 2, 2, 4, 3, 3, 2, 21, 4, 2, 3, 6, 16, 1, 15, 10, 8, 3, 5, 1, 1, 1, 8, 4, 4, 19, 10, 4, 5, 1, 1, 3, 3, 3, 7, 23, 2, 3, 6, 4, 1, 14, 4, 3, 1, 2, 4, 35, 6, 8, 2, 1, 2, 35, 2, 2, 2, 4, 2, 10, 6, 4, 9, 4, 1, 9, 19, 1, 10, 16, 7, 3, 2, 12, 2, 6, 2, 2, 9, 4, 35, 2, 1, 3, 5, 6, 6, 14, 4, 10, 6, 5, 4, 2, 4, 2, 2, 7, 2, 4, 1, 6, 7, 6, 1, 1, 6, 17, 2, 2, 1, 1, 10, 4, 2, 3, 3, 4, 1, 2, 4, 1, 2, 6, 7, 7, 2, 1, 5, 3, 7, 8, 8, 1, 1, 5, 4, 3, 1, 11, 3, 4, 7, 1, 1, 3, 3, 2, 3, 3, 3, 3, 2, 3, 7, 1, 3, 2, 7, 8, 2, 4, 4, 15, 5, 6, 4, 2, 5, 2, 2, 10, 12, 5, 4, 7, 8, 2, 2, 6, 8, 2, 3, 7, 7, 2, 12, 2, 1, 2, 5, 2, 5, 4, 3, 4, 2, 2, 2, 4, 18, 3, 1, 2, 10, 1, 1, 1, 1, 10, 12, 5]\n",
            "1735\n"
          ]
        }
      ]
    },
    {
      "cell_type": "markdown",
      "source": [
        "11 QUestion"
      ],
      "metadata": {
        "id": "lZJ6V0iv-OWr"
      }
    },
    {
      "cell_type": "code",
      "source": [
        "file=open('input.txt','r')\n",
        "import time\n",
        "\n",
        "input=[]\n",
        "with file as f:\n",
        "\n",
        "    input=list(map(int,file.read().strip().split(' ')))\n",
        "\n",
        "print(input)\n",
        "\n",
        "\n",
        "\n",
        "def rules(number):\n",
        "\n",
        "    if number == 0:\n",
        "        return [1]\n",
        "\n",
        "    string=str(number)\n",
        "    if len(string)%2 == 0:\n",
        "        left=string[:len(string)//2]\n",
        "        right=string[len(string)//2:]\n",
        "\n",
        "        return [int(left),int(right)]\n",
        "\n",
        "    return [number*2024]\n",
        "\n",
        "\n",
        "def flatten(arr):\n",
        "    #print(arr)\n",
        "    return [x for element in arr for x in element]\n",
        "\n",
        "\n",
        "\n",
        "\n",
        "def part1(arr,blinks):\n",
        "\n",
        "    for i in range(blinks):\n",
        "        res=[]\n",
        "        for num in arr:\n",
        "            res.append(rules(num))\n",
        "        arr=flatten(res)\n",
        "        #print(i)\n",
        "\n",
        "    #print(len(input))\n",
        "    return len(arr)\n",
        "\n",
        "\n",
        "\n",
        "def part2(input,blinks):\n",
        "\n",
        "    mem={}\n",
        "    def dfs(num,i):\n",
        "\n",
        "\n",
        "        if i == 0:\n",
        "            return 1\n",
        "\n",
        "        if (num,i) in mem:\n",
        "            return mem[(num,i)]\n",
        "\n",
        "        count=0\n",
        "        arr=rules(num)\n",
        "        for n in arr:\n",
        "            count+=dfs(n,i-1)\n",
        "\n",
        "        mem[(num,i)] = count\n",
        "        return count\n",
        "\n",
        "\n",
        "    count=0\n",
        "    for num in input:\n",
        "        count+=dfs(num,blinks)\n",
        "    #print(count)\n",
        "    return count\n",
        "\n",
        "\n",
        "start_time = time.time()\n",
        "\n",
        "print(part1(input,25))\n",
        "print(part2(input,75))\n",
        "\n",
        "end_time = time.time()\n",
        "execution_time = end_time - start_time\n",
        "print(f\"Execution time: {execution_time} seconds\")"
      ],
      "metadata": {
        "colab": {
          "base_uri": "https://localhost:8080/"
        },
        "id": "bvvtPAYR-QAi",
        "outputId": "74f288ce-129b-4b24-a526-87ce98eb7fd2"
      },
      "execution_count": null,
      "outputs": [
        {
          "output_type": "stream",
          "name": "stdout",
          "text": [
            "[4022724, 951333, 0, 21633, 5857, 97, 702, 6]\n",
            "211306\n",
            "250783680217283\n",
            "Execution time: 0.8775460720062256 seconds\n"
          ]
        }
      ]
    },
    {
      "cell_type": "markdown",
      "source": [
        "12 question"
      ],
      "metadata": {
        "id": "pKhsVluc5uwj"
      }
    },
    {
      "cell_type": "code",
      "source": [
        "grid = {i+j*1j: c for i,r in enumerate(open('in.txt'))\n",
        "                  for j,c in enumerate(r.strip())}\n",
        "\n",
        "sets = {p: {p} for p in grid}\n",
        "\n",
        "for p in grid:\n",
        "    for n in p+1, p-1, p+1j, p-1j:\n",
        "        if n in grid and grid[p] == grid[n]:\n",
        "            sets[p] |= sets[n]\n",
        "            for x in sets[p]:\n",
        "                sets[x] = sets[p]\n",
        "\n",
        "sets = {tuple(s) for s in sets.values()}\n",
        "\n",
        "def edge(ps):\n",
        "    P = {(p,d) for d in (+1,-1,+1j,-1j) for p in ps if p+d not in ps}\n",
        "    return P, P - {(p+d*1j, d) for p,d in P}\n",
        "\n",
        "for part in 0,1: print(sum(len(s) * len(edge(s)[part]) for s in sets))"
      ],
      "metadata": {
        "colab": {
          "base_uri": "https://localhost:8080/"
        },
        "id": "fzP1vTyI5xyN",
        "outputId": "2e54a015-1634-4a51-c0a4-36b18d3733c2"
      },
      "execution_count": null,
      "outputs": [
        {
          "output_type": "stream",
          "name": "stdout",
          "text": [
            "1431316\n",
            "821428\n"
          ]
        }
      ]
    },
    {
      "cell_type": "markdown",
      "source": [
        "13 question"
      ],
      "metadata": {
        "id": "cs-tkkr36mwr"
      }
    },
    {
      "cell_type": "code",
      "source": [
        "import sys\n",
        "import os\n",
        "import re\n",
        "\n",
        "\n",
        "# Puzzle description: https://adventofcode.com/2022/day/13\n",
        "\n",
        "\n",
        "def read_input(input_file):\n",
        "    def config(line):\n",
        "        a = list(map(int, re.findall(r'(\\d+)', line)))\n",
        "        return (a[0], a[1]), (a[2], a[3]), (a[4], a[5])\n",
        "\n",
        "    with open(input_file, \"r\") as file:\n",
        "        input = list(map(config, file.read().split('\\n\\n')))\n",
        "\n",
        "    return input\n",
        "\n",
        "\n",
        "A_COST = 3\n",
        "B_COST = 1\n",
        "PRIZE_INCREMENT = 10000000000000\n",
        "\n",
        "\n",
        "# We're solving two equations for A and B: Axa + Bxb = Px and Aya + Byb = Py\n",
        "# where xa is the x value of button A, xb is the x value of button B, and so on\n",
        "# see day13.jpg for derivation\n",
        "def button_press_cost(A, B, P):\n",
        "    a_presses = (B[0]*P[1] - B[1]*P[0])/(B[0]*A[1] - B[1]*A[0])\n",
        "    b_presses = (A[0]*P[1] - A[1]*P[0])/(A[0]*B[1] - A[1]*B[0])\n",
        "\n",
        "    if a_presses//1 == a_presses and b_presses//1 == b_presses:\n",
        "        return A_COST * int(a_presses) + B_COST * int(b_presses)\n",
        "    else:\n",
        "        return 0\n",
        "\n",
        "\n",
        "def solve(input, increment=0):\n",
        "    return sum(button_press_cost(a, b, (p[0]+increment, p[1]+increment)) for a, b, p in input)\n",
        "\n",
        "\n",
        "def main():\n",
        "    input = read_input(\"input.txt\")\n",
        "\n",
        "    print(f'Part 1 {solve(input)}')  # 36954\n",
        "    print(f'Part 2 {solve(input, PRIZE_INCREMENT)}') # 79352015273424\n",
        "\n",
        "\n",
        "if __name__ == '__main__':\n",
        "    main()"
      ],
      "metadata": {
        "colab": {
          "base_uri": "https://localhost:8080/"
        },
        "id": "T9gjSsDL6pCq",
        "outputId": "9a8919ec-4204-4146-8b10-c890a858b6bf"
      },
      "execution_count": null,
      "outputs": [
        {
          "output_type": "stream",
          "name": "stdout",
          "text": [
            "Part 1 35082\n",
            "Part 2 82570698600470\n"
          ]
        }
      ]
    },
    {
      "cell_type": "markdown",
      "source": [
        "Question 14"
      ],
      "metadata": {
        "id": "WM-nn6bYL8Uu"
      }
    },
    {
      "cell_type": "code",
      "source": [
        "import re\n",
        "from itertools import count\n",
        "from math import prod\n",
        "\n",
        "\n",
        "def parse_input():\n",
        "    with open(\"input.txt\", \"r\") as file:\n",
        "        data = file.read()\n",
        "    pattern = r\"p=(-?\\d+),(-?\\d+) v=(-?\\d+),(-?\\d+)\"\n",
        "    return [list(map(int, x)) for x in re.findall(pattern, data)]\n",
        "\n",
        "\n",
        "ROBOTS = parse_input()\n",
        "N, M = 103, 101\n",
        "\n",
        "\n",
        "def step(j, i, dj, di, t):\n",
        "    di *= t\n",
        "    dj *= t\n",
        "    i = (i + di) % N\n",
        "    j = (j + dj) % M\n",
        "    return i, j\n",
        "\n",
        "\n",
        "def draw(positions):\n",
        "    grid = [[\".\"] * M for _ in range(N)]\n",
        "    for i, j in positions:\n",
        "        grid[i][j] = \"\\u2588\"\n",
        "    print(\"\\n\".join(\"\".join(row) for row in grid))\n",
        "\n",
        "\n",
        "def part_one():\n",
        "    quadrants = [0] * 4\n",
        "    for i, j in (step(*robot, 100) for robot in ROBOTS):\n",
        "        n = (N >> 1) + 1\n",
        "        m = (M >> 1) + 1\n",
        "        x, r = divmod(i, n)\n",
        "        y, rr = divmod(j, m)\n",
        "        if r == n - 1 or rr == m - 1:\n",
        "            continue\n",
        "        quadrants[x * 2 + y] += 1\n",
        "    return prod(quadrants)\n",
        "\n",
        "\n",
        "def part_two():\n",
        "    for t in count():\n",
        "        cur = {step(*robot, t) for robot in ROBOTS}\n",
        "        if len(cur) == len(ROBOTS):\n",
        "            draw(cur)\n",
        "            return t\n",
        "\n",
        "\n",
        "print(f\"Part 1: {part_one()}\")\n",
        "print(f\"Part 2: {part_two()}\")"
      ],
      "metadata": {
        "colab": {
          "base_uri": "https://localhost:8080/"
        },
        "id": "euJnlh-5fkJ-",
        "outputId": "c9506fc0-86f9-482a-8ab0-d08aa926fee1"
      },
      "execution_count": null,
      "outputs": [
        {
          "output_type": "stream",
          "name": "stdout",
          "text": [
            "Part 1: 222208000\n",
            ".............................█.......................................................................\n",
            "......................................................................................█..............\n",
            "..............█...........█..........................................................................\n",
            "..................█...............................█.....................█............................\n",
            "...............................................................................█.....................\n",
            "...................█.................................................................................\n",
            "█.......█............................................................................................\n",
            "...................................█............█........█...........█...............................\n",
            "............................█.........█.█...................█........................................\n",
            ".....................................................................................................\n",
            ".....................................................................................................\n",
            ".........................................█..............█.............█........................█.....\n",
            ".................................................................................................█...\n",
            "...█.................................................................................................\n",
            "............................................................................█............█...........\n",
            ".....................................................................................................\n",
            ".....................................................................................................\n",
            "......█..............................................................................................\n",
            ".............................█.......................................................................\n",
            "...................█...................................█.............................................\n",
            "....................................................................█................................\n",
            ".......................................................█..........................................█..\n",
            "...............................................................................█.....................\n",
            ".....................................................................................................\n",
            "......................█.█............................................................................\n",
            "........................................██..........█............................█...................\n",
            "...█.................................................................................█...............\n",
            "......................................................................█................█.............\n",
            ".....................................................................................................\n",
            "..............█..............█.......................................................................\n",
            ".....................................................................................................\n",
            "..........█.............................................█............................................\n",
            "........................█............................................................................\n",
            "......................█.................█......█.....................................................\n",
            "....................................█................................................................\n",
            "....................█...............................................█..█.............................\n",
            "...........█.........................................................................................\n",
            "..█.................................................................█...█......................█.....\n",
            ".....................................................................................................\n",
            "...................███████████████████████████████..........................█.......█................\n",
            "...................█.............................█...................................................\n",
            "...................█.............................█...................................................\n",
            "...................█.............................█...................................................\n",
            "...................█.............................█....................................█..............\n",
            "...................█..............█..............█....................█..............................\n",
            "...................█.............███.............█...................................................\n",
            "...................█............█████............█...................................................\n",
            "...............█...█...........███████...........█................█..................................\n",
            "......█............█..........█████████..........█.█.................................................\n",
            "...................█............█████............█.........█.........................................\n",
            ".........█.........█...........███████...........█...................................................\n",
            ".........█.........█..........█████████..........█..█................................................\n",
            "...................█.........███████████.........█...................................................\n",
            "...................█........█████████████........█...................................................\n",
            "........█..........█..........█████████..........█.......................█.............█.............\n",
            ".............█.....█.........███████████.........█........................................█..........\n",
            "...................█........█████████████........█...................█....██.........................\n",
            "......█............█.......███████████████.......█........█..........................█...............\n",
            "...................█......█████████████████......█........█............................█.............\n",
            "...................█........█████████████........█.......................................█...........\n",
            ".......█...........█.......███████████████.......█...................................................\n",
            "...................█......█████████████████......█........█..........................................\n",
            "█...........█......█.....███████████████████.....█...................................................\n",
            "...................█....█████████████████████....█.....█.............................................\n",
            "...................█.............███.............█......................█............................\n",
            ".............█.█...█.............███.............█...................................................\n",
            "...................█.............███.............█............█......................................\n",
            "..█................█.............................█.......................█...........................\n",
            "...................█.............................█...........................█.......................\n",
            "...................█.............................█.................██................................\n",
            "...................█.............................█...................................................\n",
            "...................███████████████████████████████...................................................\n",
            "............................................................█...█...........................█.█......\n",
            "..........█.......................................................█..................................\n",
            "...................................█.................................█...............................\n",
            "..............................█......................................................................\n",
            "...................................█............................█....................................\n",
            ".....................................................................................................\n",
            ".............█.......................................................................................\n",
            "........█..........................................█.....................█.......................█...\n",
            "..........................................................................█..........................\n",
            "........................................................................█............................\n",
            "....█................................................................................................\n",
            "...................................................................................█.................\n",
            "..............█..................................................................█...................\n",
            "..............................................█......................................................\n",
            ".....................................................................................................\n",
            "......................█..............................................................................\n",
            "................█....................................................................................\n",
            "...............................................█.....................................................\n",
            ".....................................................................................................\n",
            "........................█...........................................█..............█..........█......\n",
            "..............................................█..............█.......................................\n",
            ".....................................................................................................\n",
            ".........................................................█...............█...........................\n",
            ".....................................................................................................\n",
            "...............................................................................█.....................\n",
            ".............................................................................█.......................\n",
            "................................................................█..█..█.........................█..█.\n",
            ".....................................................................................................\n",
            ".....................................................................................................\n",
            "..................................█............................█.......................█.............\n",
            ".........................................................█...........................................\n",
            "Part 2: 7623\n"
          ]
        }
      ]
    },
    {
      "cell_type": "markdown",
      "source": [
        "15 Question"
      ],
      "metadata": {
        "id": "4kvwNCulMhLD"
      }
    },
    {
      "cell_type": "code",
      "source": [
        "grid, moves = open('in.txt').read().split('\\n\\n')\n",
        "\n",
        "G = grid.replace('#', '##').replace('.', '..').\\\n",
        "         replace('O', '[]').replace('@', '@.')\n",
        "\n",
        "G = {i+j*1j: c for j,r in enumerate(G.split())\n",
        "               for i,c in enumerate(r)}\n",
        "\n",
        "\n",
        "def move(p, d, test=False):\n",
        "    if not test and not move(p, d, True): return False\n",
        "\n",
        "    ps = [p]\n",
        "    if d.imag:\n",
        "        if G[p] == '[': ps+= [(p+1)]\n",
        "        if G[p] == ']': ps+= [(p-1)]\n",
        "\n",
        "    for p in ps:\n",
        "        if test:\n",
        "            if G[p+d] in '[]' and not move(p+d, d, True)\\\n",
        "            or G[p+d] in '#': return False\n",
        "\n",
        "        else:\n",
        "            if G[p+d] in '[]': move(p+d, d)\n",
        "            G[p+d], G[p] = G[p], G[p+d]\n",
        "\n",
        "    return True\n",
        "\n",
        "\n",
        "p = min({p for p,c in G.items() if c == '@'})\n",
        "\n",
        "for m in moves.replace('\\n', ''):\n",
        "    d = {'<':-1, '>':+1, '^':-1j, 'v':+1j}[m]\n",
        "    if move(p, d): p += d\n",
        "\n",
        "print(sum(p.real+100*p.imag for p in G if G[p]=='['))"
      ],
      "metadata": {
        "colab": {
          "base_uri": "https://localhost:8080/"
        },
        "id": "BmMCrVk7Mi6r",
        "outputId": "0b239c9b-1dc2-4d9b-b285-46eb566f48c2"
      },
      "execution_count": null,
      "outputs": [
        {
          "output_type": "stream",
          "name": "stdout",
          "text": [
            "9021.0\n"
          ]
        }
      ]
    },
    {
      "cell_type": "code",
      "source": [
        "from collections import Counter\n",
        "from itertools import cycle\n",
        "from typing import Set\n",
        "from copy import deepcopy\n",
        "from time import sleep\n",
        "\n",
        "# path = \"day_15.txt\"\n",
        "path = \"in.txt\"\n",
        "\n",
        "directions = {\">\": (0, 1), \"v\": (1, 0), \"<\": (0, -1), \"^\": (-1, 0)}\n",
        "\n",
        "\n",
        "def print_grid(rows, cols, robot, walls, boxes, char):\n",
        "    print(\"move: \", char)\n",
        "    for r in range(rows):\n",
        "        print()\n",
        "        for c in range(cols):\n",
        "            if (r, c) == robot:\n",
        "                print(\"@\", end=\"\")\n",
        "            elif (r, c) in walls:\n",
        "                print(\"#\", end=\"\")\n",
        "            elif (r, c) in boxes:\n",
        "                print(\"O\", end=\"\")\n",
        "            else:\n",
        "                print(\".\", end=\"\")\n",
        "\n",
        "\n",
        "with open(path) as f:\n",
        "    input1, input2 = f.read().split(\"\\n\\n\")\n",
        "\n",
        "    grid = input1.splitlines()\n",
        "    commands = ''.join([i.strip() for i in input2.splitlines()])\n",
        "\n",
        "ROWS = len(grid)\n",
        "COLS = len(grid[0])\n",
        "\n",
        "# print_grid(ROWS, COLS, grid)\n",
        "\n",
        "walls = set()\n",
        "boxes = set()\n",
        "\n",
        "for row in range(ROWS):\n",
        "    for col in range(COLS):\n",
        "\n",
        "        if grid[row][col] == \"@\":\n",
        "            robot = (row, col)\n",
        "        elif grid[row][col] == \"#\":\n",
        "            walls.add((row, col))\n",
        "        elif grid[row][col] == \"O\":\n",
        "            boxes.add((row, col))\n",
        "\n",
        "\n",
        "# print_grid(ROWS, COLS, robot, walls, boxes)\n",
        "\n",
        "\n",
        "def move_box(box, direction, walls, boxes: Set):\n",
        "    d = directions[direction]\n",
        "    next_tile = (box[0] + d[0], box[1] + d[1])\n",
        "\n",
        "    if next_tile in walls:\n",
        "        return False, boxes\n",
        "\n",
        "    if next_tile in boxes:\n",
        "        success, new_boxes = move_box(next_tile, direction, walls, boxes)\n",
        "        # if success:\n",
        "        #     return move_box(box, direction, walls, new_boxes)\n",
        "        if success:\n",
        "            return move_box(box, direction, walls, new_boxes)\n",
        "        else:\n",
        "            return False, boxes\n",
        "\n",
        "    new_boxes = boxes\n",
        "    new_boxes.remove(box)\n",
        "    new_boxes.add(next_tile)\n",
        "\n",
        "    return True, new_boxes\n",
        "\n",
        "\n",
        "def move(obj, direction, walls, boxes):\n",
        "    d = directions[direction]\n",
        "    next_tile = (obj[0] + d[0], obj[1] + d[1])\n",
        "\n",
        "    if next_tile in walls:\n",
        "        return obj, boxes\n",
        "\n",
        "    if next_tile in boxes:\n",
        "        success, new_boxes = move_box(next_tile, direction, walls, boxes)\n",
        "        if success:\n",
        "            return next_tile, new_boxes\n",
        "        else:\n",
        "            return obj, boxes\n",
        "\n",
        "    return next_tile, boxes\n",
        "\n",
        "boxes_1 = deepcopy(boxes)\n",
        "robot_1 = robot\n",
        "for char in commands:\n",
        "    robot_1, boxes_1 = move(robot_1, char, walls, boxes_1)\n",
        "    # print_grid(ROWS, COLS, robot, walls, boxes, char)\n",
        "\n",
        "p1 = sum([100*i[0] + i[1] for i in boxes_1])\n",
        "\n",
        "print(p1)\n",
        "\n",
        "\n",
        "def convert_p2(obj, is_robot):\n",
        "    r,c = obj\n",
        "\n",
        "    new_c = 2*c\n",
        "\n",
        "    if is_robot:\n",
        "        return (r, new_c), None\n",
        "\n",
        "    return (r, new_c), (r, new_c+1)\n",
        "\n",
        "walls_2 = set()\n",
        "## https://stackoverflow.com/questions/3204245/how-do-i-convert-a-tuple-of-tuples-to-a-one-dimensional-list-using-list-comprehe\n",
        "walls_2.update(sum((convert_p2(i, False) for i in walls), ()))\n",
        "boxes_2 =set([convert_p2(i, False) for i in boxes])\n",
        "# print(boxes_2)\n",
        "robot_2, _ = convert_p2(robot, True)\n",
        "ROWS_2 = ROWS\n",
        "COLS_2 = COLS * 2\n",
        "\n",
        "def print_grid2(rows, cols, robot, walls, boxes, char):\n",
        "    b = cycle('[]')\n",
        "    plain_boxes = set()\n",
        "    plain_boxes.update([tile for box in boxes for tile in box])\n",
        "    for r in range(rows):\n",
        "        for c in range(cols):\n",
        "            if (r, c) == robot:\n",
        "                print(\"@\", end=\"\")\n",
        "            elif (r, c) in walls:\n",
        "                print(\"#\", end=\"\")\n",
        "            elif (r, c) in plain_boxes:\n",
        "                print(next(b), end=\"\")\n",
        "            else:\n",
        "                print(\".\", end=\"\")\n",
        "\n",
        "\n",
        "\n",
        "# print_grid2(ROWS_2, COLS_2, robot_2, walls_2, boxes_2, '')\n",
        "\n",
        "def possible_vertical(next_tiles):\n",
        "\n",
        "    left = next_tiles[0]\n",
        "    right = next_tiles[1]\n",
        "\n",
        "    return ((left[0], left[1] - 1), left), (left, right), (right, (right[0], right[1]+1))\n",
        "\n",
        "\n",
        "def move_box_2(box, direction, walls, boxes: Set):\n",
        "    d = directions[direction]\n",
        "\n",
        "    next_tile_left = (box[0][0] + d[0], box[0][1] + d[1])\n",
        "    next_tile_right = (box[1][0] + d[0], box[1][1] + d[1])\n",
        "\n",
        "    next_box = (next_tile_left, next_tile_right)\n",
        "    new_boxes = deepcopy(boxes)\n",
        "\n",
        "    if next_tile_left in walls or next_tile_right in walls:\n",
        "        return False, boxes\n",
        "\n",
        "    if direction == '>' and (next_tile_right, (next_tile_right[0] + d[0], next_tile_right[1] + d[1])) in boxes:\n",
        "        success, new_boxes = move_box_2((next_tile_right, (next_tile_right[0] + d[0], next_tile_right[1] + d[1])), direction, walls, boxes)\n",
        "\n",
        "        if not success:\n",
        "            return False, boxes\n",
        "\n",
        "    if direction == '<' and ((next_tile_left[0] + d[0], next_tile_left[1] + d[1]), next_tile_left) in boxes:\n",
        "        success, new_boxes = move_box_2(((next_tile_left[0] + d[0], next_tile_left[1] + d[1]), next_tile_left), direction, walls, boxes)\n",
        "\n",
        "        if not success:\n",
        "            return False, boxes\n",
        "\n",
        "    if direction in '^v' and any([i in boxes for i in possible_vertical(next_box)]):\n",
        "        next_boxes = [i for i in possible_vertical(next_box) if i in boxes]\n",
        "\n",
        "        new_boxes = deepcopy(boxes)\n",
        "        for b in next_boxes:\n",
        "            success, new_boxes = move_box_2(b, direction, walls, new_boxes)\n",
        "            if not success:\n",
        "                return False, boxes\n",
        "\n",
        "    new_boxes.remove(box)\n",
        "    new_boxes.add(next_box)\n",
        "\n",
        "    return True, new_boxes\n",
        "\n",
        "def move_2(robot, direction, walls, boxes):\n",
        "    d = directions[direction]\n",
        "    next_tile = (robot[0] + d[0], robot[1] + d[1])\n",
        "\n",
        "    new_boxes = deepcopy(boxes)\n",
        "    robot_possible_vertical = [((next_tile[0], next_tile[1] - 1), next_tile), (next_tile, (next_tile[0], next_tile[1] + 1))]\n",
        "\n",
        "    if next_tile in walls:\n",
        "        return robot, boxes\n",
        "\n",
        "    if direction in '>' and (next_tile, (next_tile[0] + d[0], next_tile[1] + d[1])) in boxes:\n",
        "        success, new_boxes = move_box_2((next_tile, (next_tile[0] + d[0], next_tile[1] + d[1])), direction, walls, boxes)\n",
        "\n",
        "        if not success:\n",
        "            return robot, boxes\n",
        "    elif direction in '<' and ((next_tile[0] + d[0], next_tile[1] + d[1]), next_tile) in boxes:\n",
        "        success, new_boxes = move_box_2(((next_tile[0] + d[0], next_tile[1] + d[1]), next_tile), direction, walls, boxes)\n",
        "\n",
        "        if not success:\n",
        "            return robot, boxes\n",
        "    elif direction in '^v' and any(i in boxes for i in robot_possible_vertical):\n",
        "        next_box = [i for i in robot_possible_vertical if i in boxes][0]\n",
        "\n",
        "        new_boxes = deepcopy(boxes)\n",
        "        success, new_boxes = move_box_2(next_box, direction, walls, new_boxes)\n",
        "        if not success:\n",
        "            return robot, boxes\n",
        "\n",
        "    return next_tile, new_boxes\n",
        "\n",
        "\n",
        "i = 0\n",
        "for char in commands:\n",
        "    robot_2, boxes_2 = move_2(robot_2, char, walls_2, boxes_2)\n",
        "    percentage = i/len(commands) * 100\n",
        "    i+=1\n",
        "\n",
        "\n",
        "\n",
        "\n",
        "p2 = sum([100*i[0][0] + i[0][1] for i in boxes_2])\n",
        "\n",
        "print(\"Part 2: \", p2)\n"
      ],
      "metadata": {
        "colab": {
          "base_uri": "https://localhost:8080/"
        },
        "id": "2OvHtx5qgcA9",
        "outputId": "ce5ef594-ca5d-4d1c-e322-c2b1d49df637"
      },
      "execution_count": null,
      "outputs": [
        {
          "output_type": "stream",
          "name": "stdout",
          "text": [
            "1492518\n",
            "Part 2:  1512860\n"
          ]
        }
      ]
    },
    {
      "cell_type": "markdown",
      "source": [
        "16 question"
      ],
      "metadata": {
        "id": "VhHC-TlNVWPC"
      }
    },
    {
      "cell_type": "code",
      "source": [
        "import heapq\n",
        "\n",
        "\n",
        "def parse(lines):\n",
        "    grid = []\n",
        "    line = 0\n",
        "    for line in range(len(lines)):\n",
        "        grid.append(list(lines[line].strip()))\n",
        "\n",
        "    s = None\n",
        "    e = None\n",
        "    for r, row in enumerate(grid):\n",
        "        for c, ch in enumerate(row):\n",
        "            if ch == \"S\":\n",
        "                s = (r, c)\n",
        "            elif ch == \"E\":\n",
        "                e = (r, c)\n",
        "    return grid, s, e\n",
        "\n",
        "\n",
        "def dijkstra(grid, starts):\n",
        "    delta = {\"E\": (0, 1), \"W\": (0, -1), \"N\": (-1, 0), \"S\": (1, 0)}\n",
        "\n",
        "    dist = {}\n",
        "    pq = []\n",
        "    for sr, sc, dir in starts:\n",
        "        dist[(sr, sc, dir)] = 0\n",
        "        heapq.heappush(pq, (0, sr, sc, dir))\n",
        "\n",
        "    while pq:\n",
        "        (d, row, col, direction) = heapq.heappop(pq)\n",
        "        if dist[(row, col, direction)] < d:\n",
        "            continue\n",
        "        for next_dir in \"EWNS\".replace(direction, \"\"):\n",
        "            if (row, col, next_dir) not in dist or dist[\n",
        "                (row, col, next_dir)\n",
        "            ] > d + 1000:\n",
        "                dist[(row, col, next_dir)] = d + 1000\n",
        "                heapq.heappush(pq, (d + 1000, row, col, next_dir))\n",
        "        dr, dc = delta[direction]\n",
        "        next_row, next_col = row + dr, col + dc\n",
        "        if (\n",
        "            0 <= next_row < len(grid)\n",
        "            and 0 <= next_col < len(grid[0])\n",
        "            and grid[next_row][next_col] != \"#\"\n",
        "            and (\n",
        "                (next_row, next_col, direction) not in dist\n",
        "                or dist[(next_row, next_col, direction)] > d + 1\n",
        "            )\n",
        "        ):\n",
        "            dist[(next_row, next_col, direction)] = d + 1\n",
        "            heapq.heappush(pq, (d + 1, next_row, next_col, direction))\n",
        "\n",
        "    return dist\n",
        "\n",
        "\n",
        "def part1(input):\n",
        "    grid, (sr, sc), (er, ec) = input\n",
        "    dist = dijkstra(grid, [(sr, sc, \"E\")])\n",
        "    best = 1000000000\n",
        "    for dir in \"EWNS\":\n",
        "        if (er, ec, dir) in dist:\n",
        "            best = min(best, dist[(er, ec, dir)])\n",
        "    return best\n",
        "\n",
        "\n",
        "def part2(input):\n",
        "    grid, (sr, sc), (er, ec) = input\n",
        "    from_start = dijkstra(grid, [(sr, sc, \"E\")])\n",
        "    from_end = dijkstra(grid, [(er, ec, d) for d in \"EWNS\"])\n",
        "    optimal = part1(input)\n",
        "    flip = {\"E\": \"W\", \"W\": \"E\", \"N\": \"S\", \"S\": \"N\"}\n",
        "    result = set()\n",
        "    for row in range(len(grid)):\n",
        "        for col in range(len(grid[0])):\n",
        "            for dir in \"EWNS\":\n",
        "                state_from_start = (row, col, dir)\n",
        "                state_from_end = (row, col, flip[dir])\n",
        "                if state_from_start in from_start and state_from_end in from_end:\n",
        "                    if (\n",
        "                        from_start[state_from_start] + from_end[state_from_end]\n",
        "                        == optimal\n",
        "                    ):\n",
        "                        result.add((row, col))\n",
        "    return len(result)\n",
        "\n",
        "\n",
        "sample = parse(open(\"input.txt\").readlines())\n",
        "real = parse(open(\"input.txt\").readlines())\n",
        "input = real\n",
        "\n",
        "print(part1(input))\n",
        "print(part2(input))\n"
      ],
      "metadata": {
        "colab": {
          "base_uri": "https://localhost:8080/"
        },
        "id": "PZsgo7y5VYOu",
        "outputId": "ce5d7d29-a5fd-4479-9578-5a8e4630fa48"
      },
      "execution_count": null,
      "outputs": [
        {
          "output_type": "stream",
          "name": "stdout",
          "text": [
            "85396\n",
            "428\n"
          ]
        }
      ]
    },
    {
      "cell_type": "markdown",
      "source": [
        "17 question"
      ],
      "metadata": {
        "id": "jfMI2sYkWDd-"
      }
    },
    {
      "cell_type": "code",
      "source": [
        "import sys\n",
        "\n",
        "with open('input.txt') as f:\n",
        "    reg, prog = f.read().split('\\n\\n')\n",
        "\n",
        "prog = list(map(int, prog.split(': ')[1].split(',')))\n",
        "rega, regb, regc = (int(line.split(': ')[1]) for line in reg.splitlines())\n",
        "\n",
        "def get_combo(oper, rega, regb, regc):\n",
        "    if 0 <= oper <= 3:\n",
        "        return oper\n",
        "    if oper == 4:\n",
        "        return rega\n",
        "    if oper == 5:\n",
        "        return regb\n",
        "    if oper == 6:\n",
        "        return regc\n",
        "\n",
        "def run(prog, rega, regb, regc):\n",
        "    ip = 0\n",
        "    out = []\n",
        "    while ip < len(prog):\n",
        "        oper = prog[ip+1]\n",
        "        combo = get_combo(oper, rega, regb, regc)\n",
        "        match prog[ip]:\n",
        "            case 0:\n",
        "                rega //= 2**combo\n",
        "            case 1:\n",
        "                regb ^= oper\n",
        "            case 2:\n",
        "                regb = combo%8\n",
        "            case 3:\n",
        "                if rega:\n",
        "                    ip = oper\n",
        "                    continue\n",
        "            case 4:\n",
        "                regb ^= regc\n",
        "            case 5:\n",
        "                out.append(combo%8)\n",
        "            case 6:\n",
        "                regb = rega//2**combo\n",
        "            case 7:\n",
        "                regc = rega//2**combo\n",
        "        ip += 2\n",
        "    return out\n",
        "\n",
        "print(','.join(map(str, run(prog, rega, regb, regc))))\n",
        "\n",
        "rega = 0\n",
        "j = 1\n",
        "istart = 0\n",
        "while j <= len(prog) and j >= 0:\n",
        "    rega <<= 3\n",
        "    for i in range(istart, 8):\n",
        "        if prog[-j:] == run(prog, rega+i, regb, regc):\n",
        "            break\n",
        "    else:\n",
        "        j -= 1\n",
        "        rega >>= 3\n",
        "        istart = rega%8+1\n",
        "        rega >>= 3\n",
        "        continue\n",
        "    j += 1\n",
        "    rega += i\n",
        "    istart = 0\n",
        "print(rega)"
      ],
      "metadata": {
        "colab": {
          "base_uri": "https://localhost:8080/"
        },
        "id": "yiwuyA1bWFPF",
        "outputId": "22e6482d-9f3c-4f02-c594-c4e94a475195"
      },
      "execution_count": null,
      "outputs": [
        {
          "output_type": "stream",
          "name": "stdout",
          "text": [
            "7,3,5,7,5,7,4,3,0\n",
            "105734774294938\n"
          ]
        }
      ]
    },
    {
      "cell_type": "markdown",
      "source": [
        "18 question"
      ],
      "metadata": {
        "id": "K5cyEkdZWe09"
      }
    },
    {
      "cell_type": "code",
      "source": [
        "data = open('input.txt').read().strip().split('\\n')\n",
        "\n",
        "data = [tuple([int(i) for i in line.split(',')]) for line in data]\n",
        "bounds = set(data[0:1024])\n",
        "end = (70,70)\n",
        "\n",
        "ds = ((1,0),(-1,0),(0,1),(0,-1))\n",
        "\n",
        "def solve(bounds):\n",
        "    queue = [(0,0,0)]\n",
        "    seen = set()\n",
        "    distmap = {(0,0):1}\n",
        "    while queue:\n",
        "        c,r,t = queue.pop(0)\n",
        "        if (c,r) == end:\n",
        "            return(t)\n",
        "        for dc,dr in ds:\n",
        "            nc,nr = c+dc,r+dr\n",
        "            if (nc,nr) not in seen and (nc,nr) not in bounds and 0 <= nc < 71 and 0 <= nr < 71:\n",
        "                queue.append((nc,nr,t+1))\n",
        "                distmap[(c,r)] = t+1\n",
        "                seen.add((nc,nr))\n",
        "    return -1\n",
        "\n",
        "print(solve(bounds))\n",
        "\n",
        "i = 1024\n",
        "while i < len(data):\n",
        "    bounds = set(data[0:i])\n",
        "    if solve(bounds) == -1:\n",
        "        print(','.join([str(k) for k in data[i-1]]))\n",
        "        break\n",
        "    i += 1"
      ],
      "metadata": {
        "colab": {
          "base_uri": "https://localhost:8080/"
        },
        "id": "ou0dUI1nWf_Y",
        "outputId": "9490ef36-3821-4a61-d9f6-35e5a734fe43"
      },
      "execution_count": null,
      "outputs": [
        {
          "output_type": "stream",
          "name": "stdout",
          "text": [
            "436\n",
            "61,50\n"
          ]
        }
      ]
    },
    {
      "cell_type": "markdown",
      "source": [
        "19 question"
      ],
      "metadata": {
        "id": "1zexRfYihcNc"
      }
    },
    {
      "cell_type": "code",
      "source": [
        "\n",
        "class TrieNode:\n",
        "    def __init__(self):\n",
        "        self.child = [None] * 5\n",
        "        self.wordEnd = False\n",
        "        self.parent = None\n",
        "\n",
        "def letter_idx(towel):\n",
        "    match towel:\n",
        "        case 'w':\n",
        "            return 0\n",
        "        case 'u':\n",
        "            return 1\n",
        "        case 'b':\n",
        "            return 2\n",
        "        case 'r':\n",
        "            return 3\n",
        "        case 'g':\n",
        "            return 4\n",
        "\n",
        "        case _:\n",
        "            print('?')\n",
        "            return ord(towel) # would return an error on retrieval anyway\n",
        "\n",
        "def add_word(root, key):\n",
        "    curr = root\n",
        "    for c in key:\n",
        "\n",
        "        i = letter_idx(c)\n",
        "        if curr.child[i] == None:\n",
        "            new_node = TrieNode()\n",
        "            curr.child[i] = new_node\n",
        "\n",
        "        curr = curr.child[i]\n",
        "    curr.wordEnd = True\n",
        "\n",
        "from functools import cache\n",
        "\n",
        "def search(root, key):\n",
        "\n",
        "    # print(key)\n",
        "    curr = root\n",
        "    n = len(key)\n",
        "    if n == 0:\n",
        "        return True\n",
        "\n",
        "    for i in range(n):\n",
        "        next = letter_idx(key[i])\n",
        "\n",
        "        if curr.child[next] is not None:\n",
        "            curr = curr.child[next]\n",
        "        else:\n",
        "            return False\n",
        "\n",
        "        if curr.wordEnd:\n",
        "            if search(root, key[i+1:]):\n",
        "                return True\n",
        "\n",
        "    # ending on a non-terminal, non-word node is not valid\n",
        "    return False\n",
        "\n",
        "@cache\n",
        "def count_combos(root, key):\n",
        "\n",
        "    # print(key)\n",
        "    curr = root\n",
        "    n = len(key)\n",
        "    combos = 0\n",
        "\n",
        "    if n == 0:\n",
        "        return 1 # True for valid combo\n",
        "\n",
        "    for i in range(n):\n",
        "        next = letter_idx(key[i])\n",
        "\n",
        "        if curr.child[next] is not None:\n",
        "            curr = curr.child[next]\n",
        "        else:\n",
        "            return combos # False, or possible combos from earlier cycles\n",
        "\n",
        "        if curr.wordEnd:\n",
        "            res = count_combos(root, key[i+1:])\n",
        "            if res:\n",
        "                combos += res # increment for true\n",
        "\n",
        "    # ending on a non-terminal, non-word node is not valid\n",
        "    return combos\n",
        "\n",
        "\n",
        "\n",
        "if __name__ == '__main__':\n",
        "\n",
        "    p1 = 0\n",
        "    p2 = 0\n",
        "    TrieRoot = TrieNode()\n",
        "\n",
        "    with open('input.txt') as f:\n",
        "        patterns = f.readline().strip().split(', ')\n",
        "        for p in patterns:\n",
        "            # print(\"inserting {}\".format(p))\n",
        "            add_word(TrieRoot, p.strip())\n",
        "\n",
        "        f.readline() # skip empty line\n",
        "\n",
        "        # rest of lines are designs\n",
        "        for line in f.readlines():\n",
        "\n",
        "            # check if part of the design exists in a trie of existing towels\n",
        "            design = line.strip()\n",
        "            i = 0\n",
        "            # keep advancing search with index or stop search\n",
        "            pos = count_combos(TrieRoot, design)\n",
        "            if pos:\n",
        "                p1 += 1\n",
        "                p2 += pos\n",
        "\n",
        "\n",
        "    print(\"Part 1: {}\\nPart 2: {}\".format(p1, p2))\n"
      ],
      "metadata": {
        "colab": {
          "base_uri": "https://localhost:8080/"
        },
        "id": "-NHrK0Wjhdwq",
        "outputId": "a35eeaf8-6c5c-4c30-9de3-1c34ffb5f5a0"
      },
      "execution_count": null,
      "outputs": [
        {
          "output_type": "stream",
          "name": "stdout",
          "text": [
            "Part 1: 333\n",
            "Part 2: 678536865274732\n"
          ]
        }
      ]
    },
    {
      "cell_type": "markdown",
      "source": [
        "20 Question"
      ],
      "metadata": {
        "id": "0gJsgW5Oh5AU"
      }
    },
    {
      "cell_type": "code",
      "source": [
        "from itertools import combinations\n",
        "\n",
        "grid = {i+j*1j: c for i,r in enumerate(open('input.txt'))\n",
        "                  for j,c in enumerate(r) if c != '#'}\n",
        "\n",
        "start, = (p for p in grid if grid[p] == 'S')\n",
        "\n",
        "\n",
        "dist = {start: 0}\n",
        "todo = [start]\n",
        "\n",
        "for pos in todo:\n",
        "    for new in pos-1, pos+1, pos-1j, pos+1j:\n",
        "        if new in grid and new not in dist:\n",
        "            dist[new] = dist[pos] + 1\n",
        "            todo += [new]\n",
        "\n",
        "\n",
        "a = b = 0\n",
        "\n",
        "for (p,i), (q,j) in combinations(dist.items(), 2):\n",
        "    d = abs((p-q).real) + abs((p-q).imag)\n",
        "    if d == 2 and j-i-d >= 100: a += 1\n",
        "    if d < 21 and j-i-d >= 100: b += 1\n",
        "\n",
        "print(a, b)"
      ],
      "metadata": {
        "colab": {
          "base_uri": "https://localhost:8080/"
        },
        "id": "CS2M4UWmh6Jc",
        "outputId": "c1342e48-c0e4-45d2-e311-722bf7b96083"
      },
      "execution_count": null,
      "outputs": [
        {
          "output_type": "stream",
          "name": "stdout",
          "text": [
            "1499 1027164\n"
          ]
        }
      ]
    },
    {
      "cell_type": "markdown",
      "source": [
        "day 21"
      ],
      "metadata": {
        "id": "kCtWPL8glALZ"
      }
    },
    {
      "cell_type": "code",
      "source": [
        "#!/usr/bin/env python3\n",
        "# 2024 Day 21: Keypad Conundrum\n",
        "\n",
        "from collections import defaultdict\n",
        "\n",
        "def process_input(filename):\n",
        "    \"\"\"Acquire input data\"\"\"\n",
        "    with open(filename) as file:\n",
        "        input = file.read().splitlines()\n",
        "    return input\n",
        "\n",
        "def enter_codes():\n",
        "    global button_presses\n",
        "    complexity_sum = 0\n",
        "    for code in codes:\n",
        "        # A \"button press\" is a sequence of ending in A\n",
        "        button_presses = defaultdict(int)\n",
        "\n",
        "        # First count button presses on the numeric keypad\n",
        "        move_numeric_keypad(code)\n",
        "\n",
        "        # Count all the button presses on the directional keypads\n",
        "        for n in range(robot_dir_keypads):\n",
        "            count_dir_keypad_presses()\n",
        "\n",
        "        complexity = 0\n",
        "        for button_press, count in button_presses.items():\n",
        "            complexity += len(button_press) * count\n",
        "        complexity_sum += complexity * int(code[:3])\n",
        "    return complexity_sum\n",
        "\n",
        "\n",
        "def move_numeric_keypad(code):\n",
        "    from_button = 'A'\n",
        "    for button in code:\n",
        "        directions = move_to_button(from_button, button)\n",
        "        from_button = button\n",
        "        directions += 'A'\n",
        "        button_presses[directions] += 1\n",
        "    return\n",
        "\n",
        "def move_to_button(from_button, to_button):\n",
        "    \"\"\"If moving in the preferred direction would eventually move to the\n",
        "    missing button, then move all the way in the 90° direction. \"\"\"\n",
        "    keypad = {'7':(0,0), '8':(1,0), '9':(2,0),\n",
        "              '4':(0,1), '5':(1,1), '6':(2,1),\n",
        "              '1':(0,2), '2':(1,2), '3':(2,2),\n",
        "              'x':(0,3), '0':(1,3), 'A':(2,3)}\n",
        "\n",
        "    x1, y1 = keypad[from_button]\n",
        "    x2, y2 = keypad[to_button]\n",
        "    nx, ny = keypad['x']    # missing button\n",
        "    directions = ''\n",
        "    while (x1, y1) != (x2, y2):\n",
        "        if x2 < x1:             # highest priority is left\n",
        "            if (y1 == ny) and (x2 == nx):    # if would move to missing button\n",
        "                directions += '^' * (y1 - y2)   # move up instead\n",
        "                y1 = y2\n",
        "            else:\n",
        "                directions += '<'\n",
        "                x1 -= 1\n",
        "        elif y2 < y1:           # move up\n",
        "            directions += '^'\n",
        "            y1 -= 1\n",
        "        elif y2 > y1:\n",
        "            if (x1 == nx) and (y2 == ny):    # if would move to missing button\n",
        "                directions += '>' * (x2 - x1)   # move right instead\n",
        "                x1 = x2\n",
        "            else:\n",
        "                directions += 'v'   # move down\n",
        "                y1 += 1\n",
        "        elif x2 > x1:        # lowest priority is right\n",
        "            directions += '>'\n",
        "            x1 += 1\n",
        "    return directions\n",
        "\n",
        "\n",
        "def count_dir_keypad_presses():\n",
        "    iterate_button_presses = dict(button_presses)\n",
        "    for button_press, count in iterate_button_presses.items():\n",
        "        move_dir_keypad(button_press, count)\n",
        "        button_presses[button_press] -= count\n",
        "    return\n",
        "\n",
        "def move_dir_keypad(code, count):\n",
        "    dir_keypad_moves = dict([(('A','^'),'<A'),\n",
        "                         (('A','>'),'vA'),\n",
        "                         (('A','v'),'<vA'),\n",
        "                         (('A','<'),'v<<A'),\n",
        "                         (('^','A'),'>A'),\n",
        "                         (('^','>'),'v>A'),\n",
        "                         (('^','<'),'v<A'),\n",
        "                         (('^','v'),'vA'),\n",
        "                         (('v','A'),'^>A'),\n",
        "                         (('v','>'),'>A'),\n",
        "                         (('v','<'),'<A'),\n",
        "                         (('v','^'),'^A'),\n",
        "                         (('>','A'),'^A'),\n",
        "                         (('>','^'),'<^A'),\n",
        "                         (('>','v'),'<A'),\n",
        "                         (('>','<'),'<<A'),\n",
        "                         (('<','A'),'>>^A'),\n",
        "                         (('<','^'),'>^A'),\n",
        "                         (('<','v'),'>A'),\n",
        "                         (('<','>'),'>>A')])\n",
        "\n",
        "    from_button = 'A'\n",
        "    for button in code:\n",
        "        if from_button == button:\n",
        "            directions = 'A'\n",
        "        else:\n",
        "            directions = dir_keypad_moves[(from_button, button)]\n",
        "        from_button = button\n",
        "        button_presses[directions] += count\n",
        "    return\n",
        "\n",
        "#-----------------------------------------------------------------------------------------\n",
        "\n",
        "filename = 'input.txt'\n",
        "robot_dir_keypads = 25\n",
        "#filename = 'sample.txt'; robot_dir_keypads = 2\n",
        "\n",
        "codes = process_input(filename)\n",
        "\n",
        "complexity_sum = enter_codes()\n",
        "\n",
        "print()\n",
        "print('Sum =',complexity_sum)"
      ],
      "metadata": {
        "colab": {
          "base_uri": "https://localhost:8080/"
        },
        "id": "cgBumN8flBU7",
        "outputId": "f24e7147-87b4-414b-b80c-6468924e82e8"
      },
      "execution_count": null,
      "outputs": [
        {
          "output_type": "stream",
          "name": "stdout",
          "text": [
            "\n",
            "Sum = 279638326609472\n"
          ]
        }
      ]
    },
    {
      "cell_type": "markdown",
      "source": [
        "day 22"
      ],
      "metadata": {
        "id": "c1o85pkQmEVo"
      }
    },
    {
      "cell_type": "code",
      "source": [
        "def randomNumber(seed: int) -> int:\n",
        "    seed = ((seed << 6) ^ seed) % 16777216\n",
        "    seed = ((seed >> 5) ^ seed) % 16777216\n",
        "    seed = ((seed << 11) ^ seed) % 16777216\n",
        "    return seed\n",
        "\n",
        "\n",
        "def sumOfTwoThousandthNumber() -> int:\n",
        "    with open(\"input.txt\") as file:\n",
        "        con = file.read()\n",
        "    numbers = map(int, con.split(\"\\n\"))\n",
        "    total = 0\n",
        "    for num in numbers:\n",
        "        seed = num\n",
        "        for _ in range(2000):\n",
        "            seed = randomNumber(seed)\n",
        "        total += seed\n",
        "    return total\n",
        "\n",
        "print(sumOfTwoThousandthNumber())"
      ],
      "metadata": {
        "colab": {
          "base_uri": "https://localhost:8080/"
        },
        "id": "XpV8LQhfmFzv",
        "outputId": "e72a8e31-cba9-49e0-e520-9df4999b0e17"
      },
      "execution_count": null,
      "outputs": [
        {
          "output_type": "stream",
          "name": "stdout",
          "text": [
            "16039090236\n"
          ]
        }
      ]
    },
    {
      "cell_type": "code",
      "source": [
        "def randomNumber(seed: int) -> int:\n",
        "    seed = ((seed << 6) ^ seed) % 16777216\n",
        "    seed = ((seed >> 5) ^ seed) % 16777216\n",
        "    seed = ((seed << 11) ^ seed) % 16777216\n",
        "    return seed\n",
        "\n",
        "\n",
        "def getMostBananas() -> int:\n",
        "    with open(\"input.txt\") as file:\n",
        "        con = file.read()\n",
        "    ranges: dict = {}\n",
        "    numbers: map = map(int, con.split(\"\\n\"))\n",
        "\n",
        "    for num in numbers:\n",
        "        seed = num\n",
        "        visited = set()\n",
        "        changes = []\n",
        "\n",
        "        for _ in range(2000):\n",
        "            nextSeed = randomNumber(seed)\n",
        "            changes.append((nextSeed % 10) - (seed % 10))\n",
        "            seed = nextSeed\n",
        "\n",
        "            if len(changes) == 4:\n",
        "                key = \",\".join(map(str, changes))\n",
        "                if key not in visited:\n",
        "                    if key not in ranges:\n",
        "                        ranges[key] = []\n",
        "                    ranges[key].append(nextSeed % 10)\n",
        "                    visited.add(key)\n",
        "                changes.pop(0)\n",
        "\n",
        "    return max(sum(rangeValues) for rangeValues in ranges.values())\n",
        "print(getMostBananas())"
      ],
      "metadata": {
        "colab": {
          "base_uri": "https://localhost:8080/"
        },
        "id": "H1nzB7h_nHKW",
        "outputId": "446f63b8-4291-44ed-918d-4aa6d15e1998"
      },
      "execution_count": null,
      "outputs": [
        {
          "output_type": "stream",
          "name": "stdout",
          "text": [
            "1808\n"
          ]
        }
      ]
    },
    {
      "cell_type": "markdown",
      "source": [
        "day 23"
      ],
      "metadata": {
        "id": "aVweLf0BnaAC"
      }
    },
    {
      "cell_type": "code",
      "source": [
        "def combination(array, k):\n",
        "    result: list = []\n",
        "\n",
        "    def helper(_array, _k, _i, _current):\n",
        "        if len(_current) == k:\n",
        "            result.append(_current)\n",
        "        if len(_current) == k or _i == len(_array):\n",
        "            return\n",
        "\n",
        "        helper(_array, _k, _i + 1, [_array[_i]] + _current)\n",
        "        helper(_array, _k, _i + 1, _current)\n",
        "\n",
        "    helper(array, k, 0, [])\n",
        "    return result\n",
        "\n",
        "\n",
        "def findSet(graph, path, size):\n",
        "    current = path[-1]\n",
        "    if len(path) == size + 1:\n",
        "        if current == path[0]:\n",
        "            return [path[:size]]\n",
        "        else:\n",
        "            return []\n",
        "\n",
        "    if len(set(path)) != len(path):\n",
        "        return []\n",
        "\n",
        "    allSets = []\n",
        "    for neighbor in graph[current]:\n",
        "        path.append(neighbor)\n",
        "        sets = findSet(graph, path, size)\n",
        "        path.pop()\n",
        "\n",
        "        if sets:\n",
        "            allSets.extend(sets)\n",
        "\n",
        "    return allSets\n",
        "\n",
        "\n",
        "# Part_1\n",
        "def computerNameT() -> int:\n",
        "    with open(\"input.txt\") as file:\n",
        "        con = file.read()\n",
        "    lines = con.strip().split(\"\\n\")\n",
        "    graph: map = {}\n",
        "    for line in lines:\n",
        "        left, right = line.split(\"-\")\n",
        "        graph.setdefault(left, []).append(right)\n",
        "        graph.setdefault(right, []).append(left)\n",
        "\n",
        "    allSets = set()\n",
        "    for node in graph.keys():\n",
        "        sets = findSet(graph, [node], 3)\n",
        "        allSets.update(\",\".join(sorted(s)) for s in sets)\n",
        "        result: int = sum(\n",
        "            1 for s in allSets if any(node.startswith(\"t\") for node in s.split(\",\"))\n",
        "        )\n",
        "    print(result)\n",
        "    return result\n",
        "print(computerNameT())"
      ],
      "metadata": {
        "colab": {
          "base_uri": "https://localhost:8080/"
        },
        "id": "rHdWXa7AnbEw",
        "outputId": "71950c35-aae3-4226-88e3-0ed0ddfc55be"
      },
      "execution_count": null,
      "outputs": [
        {
          "output_type": "stream",
          "name": "stdout",
          "text": [
            "1352\n",
            "1352\n"
          ]
        }
      ]
    },
    {
      "cell_type": "code",
      "source": [
        "import networkx as nx\n",
        "\n",
        "\n",
        "def getIntoLANParty() -> str:\n",
        "    g = nx.Graph()\n",
        "\n",
        "    with open(\"input.txt\") as f:\n",
        "        for lines in f.read().splitlines():\n",
        "            ps = lines.split(\"-\")\n",
        "            g.add_edge(ps[0], ps[1])\n",
        "\n",
        "    clusters = list(nx.find_cliques_recursive(g))\n",
        "    clusters.sort(key=len, reverse=True)\n",
        "    clusters[0].sort()\n",
        "    cluster: str = \",\".join(clusters[0])\n",
        "    print(cluster)\n",
        "    return cluster\n",
        "\n",
        "\n",
        "# ai,bk,dc,dx,fo,gx,hk,kd,os,uz,xn,yk,zs\n",
        "getIntoLANParty()"
      ],
      "metadata": {
        "id": "zcsYPS7Gnuqm",
        "outputId": "551581fc-1227-46d7-c74a-b7ed0d25427d",
        "colab": {
          "base_uri": "https://localhost:8080/",
          "height": 53
        }
      },
      "execution_count": null,
      "outputs": [
        {
          "output_type": "stream",
          "name": "stdout",
          "text": [
            "dm,do,fr,gf,gh,gy,iq,jb,kt,on,rg,xf,ze\n"
          ]
        },
        {
          "output_type": "execute_result",
          "data": {
            "text/plain": [
              "'dm,do,fr,gf,gh,gy,iq,jb,kt,on,rg,xf,ze'"
            ],
            "application/vnd.google.colaboratory.intrinsic+json": {
              "type": "string"
            }
          },
          "metadata": {},
          "execution_count": 14
        }
      ]
    },
    {
      "cell_type": "markdown",
      "source": [
        "Day 24"
      ],
      "metadata": {
        "id": "H6TfTOVYZEgG"
      }
    },
    {
      "cell_type": "code",
      "source": [
        "wires = {}\n",
        "operations = []\n",
        "\n",
        "def process(op, op1, op2):\n",
        "    if op == \"AND\":\n",
        "        return op1 & op2\n",
        "    elif op == \"OR\":\n",
        "        return op1 | op2\n",
        "    elif op == \"XOR\":\n",
        "        return op1 ^ op2\n",
        "\n",
        "highest_z = \"z00\"\n",
        "data = open(\"input.txt\").read().split(\"\\n\")\n",
        "for line in data:\n",
        "    if \":\" in line:\n",
        "        wire, value = line.split(\": \")\n",
        "        wires[wire] = int(value)\n",
        "    elif \"->\" in line:\n",
        "        op1, op, op2, _, res = line.split(\" \")\n",
        "        operations.append((op1, op, op2, res))\n",
        "        if res[0] == \"z\" and int(res[1:]) > int(highest_z[1:]):\n",
        "            highest_z = res\n",
        "\n",
        "wrong = set()\n",
        "for op1, op, op2, res in operations:\n",
        "    if res[0] == \"z\" and op != \"XOR\" and res != highest_z:\n",
        "        wrong.add(res)\n",
        "    if (\n",
        "        op == \"XOR\"\n",
        "        and res[0] not in [\"x\", \"y\", \"z\"]\n",
        "        and op1[0] not in [\"x\", \"y\", \"z\"]\n",
        "        and op2[0] not in [\"x\", \"y\", \"z\"]\n",
        "    ):\n",
        "        wrong.add(res)\n",
        "    if op == \"AND\" and \"x00\" not in [op1, op2]:\n",
        "        for subop1, subop, subop2, subres in operations:\n",
        "            if (res == subop1 or res == subop2) and subop != \"OR\":\n",
        "                wrong.add(res)\n",
        "    if op == \"XOR\":\n",
        "        for subop1, subop, subop2, subres in operations:\n",
        "            if (res == subop1 or res == subop2) and subop == \"OR\":\n",
        "                wrong.add(res)\n",
        "\n",
        "while len(operations):\n",
        "    op1, op, op2, res = operations.pop(0)\n",
        "    if op1 in wires and op2 in wires:\n",
        "        wires[res] = process(op, wires[op1], wires[op2])\n",
        "    else:\n",
        "        operations.append((op1, op, op2, res))\n",
        "\n",
        "bits = [str(wires[wire]) for wire in sorted(wires, reverse=True) if wire[0] == \"z\"]\n",
        "print(int(\"\".join(bits), 2))\n",
        "print(\",\".join(sorted(wrong)))"
      ],
      "metadata": {
        "colab": {
          "base_uri": "https://localhost:8080/"
        },
        "id": "-St_FXUEZFQr",
        "outputId": "83ec4936-efa3-46f7-b304-ca553bdd8691"
      },
      "execution_count": 1,
      "outputs": [
        {
          "output_type": "stream",
          "name": "stdout",
          "text": [
            "46362252142374\n",
            "cbd,gmh,jmq,qrh,rqf,z06,z13,z38\n"
          ]
        }
      ]
    },
    {
      "cell_type": "markdown",
      "source": [
        "Day 25"
      ],
      "metadata": {
        "id": "zeRhZKpPZfti"
      }
    },
    {
      "cell_type": "code",
      "source": [
        "items = [{i for i, c in enumerate(item) if c == '#'}\n",
        "    for item in open('in.txt').read().split('\\n\\n')]\n",
        "\n",
        "print(sum(not k&l for k in items for l in items)//2)"
      ],
      "metadata": {
        "colab": {
          "base_uri": "https://localhost:8080/"
        },
        "id": "kWUE8jWAZgyP",
        "outputId": "50e6b23a-bd4e-4547-8d66-b9b76b5281bb"
      },
      "execution_count": 4,
      "outputs": [
        {
          "output_type": "stream",
          "name": "stdout",
          "text": [
            "3619\n"
          ]
        }
      ]
    },
    {
      "cell_type": "code",
      "source": [
        "def solve(data):\n",
        "  keys = []\n",
        "  for block in data:\n",
        "    b = [int(\"\".join(\"1\" if x == \"#\" else \"0\" for x in line), 2)\n",
        "         for line in zip(*block)]\n",
        "  keys.append(b)\n",
        "  ans = 0\n",
        "  for a, b in itertools.combinations(keys, 2):\n",
        "    if all(x & y == 0 for x, y in zip(a, b)):\n",
        "      ans += 1\n",
        "  return ans\n",
        "print(solve(open(\"in.txt\").read().split(\"\\n\\n\")))"
      ],
      "metadata": {
        "colab": {
          "base_uri": "https://localhost:8080/",
          "height": 305
        },
        "id": "pBhXT8CmZ8r8",
        "outputId": "fe64419d-14ab-4007-f8a3-def35fc8e91c"
      },
      "execution_count": 6,
      "outputs": [
        {
          "output_type": "error",
          "ename": "NameError",
          "evalue": "name 'itertools' is not defined",
          "traceback": [
            "\u001b[0;31m---------------------------------------------------------------------------\u001b[0m",
            "\u001b[0;31mNameError\u001b[0m                                 Traceback (most recent call last)",
            "\u001b[0;32m<ipython-input-6-d9f6ba40b84d>\u001b[0m in \u001b[0;36m<cell line: 12>\u001b[0;34m()\u001b[0m\n\u001b[1;32m     10\u001b[0m       \u001b[0mans\u001b[0m \u001b[0;34m+=\u001b[0m \u001b[0;36m1\u001b[0m\u001b[0;34m\u001b[0m\u001b[0;34m\u001b[0m\u001b[0m\n\u001b[1;32m     11\u001b[0m   \u001b[0;32mreturn\u001b[0m \u001b[0mans\u001b[0m\u001b[0;34m\u001b[0m\u001b[0;34m\u001b[0m\u001b[0m\n\u001b[0;32m---> 12\u001b[0;31m \u001b[0mprint\u001b[0m\u001b[0;34m(\u001b[0m\u001b[0msolve\u001b[0m\u001b[0;34m(\u001b[0m\u001b[0mopen\u001b[0m\u001b[0;34m(\u001b[0m\u001b[0;34m\"in.txt\"\u001b[0m\u001b[0;34m)\u001b[0m\u001b[0;34m.\u001b[0m\u001b[0mread\u001b[0m\u001b[0;34m(\u001b[0m\u001b[0;34m)\u001b[0m\u001b[0;34m.\u001b[0m\u001b[0msplit\u001b[0m\u001b[0;34m(\u001b[0m\u001b[0;34m\"\\n\\n\"\u001b[0m\u001b[0;34m)\u001b[0m\u001b[0;34m)\u001b[0m\u001b[0;34m)\u001b[0m\u001b[0;34m\u001b[0m\u001b[0;34m\u001b[0m\u001b[0m\n\u001b[0m",
            "\u001b[0;32m<ipython-input-6-d9f6ba40b84d>\u001b[0m in \u001b[0;36msolve\u001b[0;34m(data)\u001b[0m\n\u001b[1;32m      6\u001b[0m   \u001b[0mkeys\u001b[0m\u001b[0;34m.\u001b[0m\u001b[0mappend\u001b[0m\u001b[0;34m(\u001b[0m\u001b[0mb\u001b[0m\u001b[0;34m)\u001b[0m\u001b[0;34m\u001b[0m\u001b[0;34m\u001b[0m\u001b[0m\n\u001b[1;32m      7\u001b[0m   \u001b[0mans\u001b[0m \u001b[0;34m=\u001b[0m \u001b[0;36m0\u001b[0m\u001b[0;34m\u001b[0m\u001b[0;34m\u001b[0m\u001b[0m\n\u001b[0;32m----> 8\u001b[0;31m   \u001b[0;32mfor\u001b[0m \u001b[0ma\u001b[0m\u001b[0;34m,\u001b[0m \u001b[0mb\u001b[0m \u001b[0;32min\u001b[0m \u001b[0mitertools\u001b[0m\u001b[0;34m.\u001b[0m\u001b[0mcombinations\u001b[0m\u001b[0;34m(\u001b[0m\u001b[0mkeys\u001b[0m\u001b[0;34m,\u001b[0m \u001b[0;36m2\u001b[0m\u001b[0;34m)\u001b[0m\u001b[0;34m:\u001b[0m\u001b[0;34m\u001b[0m\u001b[0;34m\u001b[0m\u001b[0m\n\u001b[0m\u001b[1;32m      9\u001b[0m     \u001b[0;32mif\u001b[0m \u001b[0mall\u001b[0m\u001b[0;34m(\u001b[0m\u001b[0mx\u001b[0m \u001b[0;34m&\u001b[0m \u001b[0my\u001b[0m \u001b[0;34m==\u001b[0m \u001b[0;36m0\u001b[0m \u001b[0;32mfor\u001b[0m \u001b[0mx\u001b[0m\u001b[0;34m,\u001b[0m \u001b[0my\u001b[0m \u001b[0;32min\u001b[0m \u001b[0mzip\u001b[0m\u001b[0;34m(\u001b[0m\u001b[0ma\u001b[0m\u001b[0;34m,\u001b[0m \u001b[0mb\u001b[0m\u001b[0;34m)\u001b[0m\u001b[0;34m)\u001b[0m\u001b[0;34m:\u001b[0m\u001b[0;34m\u001b[0m\u001b[0;34m\u001b[0m\u001b[0m\n\u001b[1;32m     10\u001b[0m       \u001b[0mans\u001b[0m \u001b[0;34m+=\u001b[0m \u001b[0;36m1\u001b[0m\u001b[0;34m\u001b[0m\u001b[0;34m\u001b[0m\u001b[0m\n",
            "\u001b[0;31mNameError\u001b[0m: name 'itertools' is not defined"
          ]
        }
      ]
    }
  ]
}